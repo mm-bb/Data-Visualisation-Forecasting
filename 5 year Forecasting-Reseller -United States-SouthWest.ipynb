{
 "cells": [
  {
   "cell_type": "markdown",
   "id": "a36af659",
   "metadata": {},
   "source": [
    "#### 5 year Forecasting With ResellerSales\n"
   ]
  },
  {
   "cell_type": "code",
   "execution_count": 1,
   "id": "98045ad7",
   "metadata": {},
   "outputs": [],
   "source": [
    "import warnings\n",
    "import itertools\n",
    "import numpy as np\n",
    "import matplotlib.pyplot as plt\n",
    "warnings.filterwarnings(\"ignore\")\n",
    "plt.style.use('fivethirtyeight')\n",
    "import pandas as pd\n",
    "import statsmodels.api as sm\n",
    "import matplotlib\n",
    "matplotlib.rcParams['axes.labelsize'] = 14\n",
    "matplotlib.rcParams['xtick.labelsize'] = 12\n",
    "matplotlib.rcParams['ytick.labelsize'] = 12\n",
    "matplotlib.rcParams['text.color'] = 'k'"
   ]
  },
  {
   "cell_type": "code",
   "execution_count": 2,
   "id": "36bdae9a",
   "metadata": {},
   "outputs": [
    {
     "data": {
      "text/html": [
       "<div>\n",
       "<style scoped>\n",
       "    .dataframe tbody tr th:only-of-type {\n",
       "        vertical-align: middle;\n",
       "    }\n",
       "\n",
       "    .dataframe tbody tr th {\n",
       "        vertical-align: top;\n",
       "    }\n",
       "\n",
       "    .dataframe thead th {\n",
       "        text-align: right;\n",
       "    }\n",
       "</style>\n",
       "<table border=\"1\" class=\"dataframe\">\n",
       "  <thead>\n",
       "    <tr style=\"text-align: right;\">\n",
       "      <th></th>\n",
       "      <th>OrderDate</th>\n",
       "      <th>Sales_Channel</th>\n",
       "      <th>Total_Sales</th>\n",
       "      <th>Region</th>\n",
       "    </tr>\n",
       "  </thead>\n",
       "  <tbody>\n",
       "    <tr>\n",
       "      <th>0</th>\n",
       "      <td>2011-05-31</td>\n",
       "      <td>Reseller</td>\n",
       "      <td>2024.994</td>\n",
       "      <td>Southeast</td>\n",
       "    </tr>\n",
       "    <tr>\n",
       "      <th>1</th>\n",
       "      <td>2011-05-31</td>\n",
       "      <td>Reseller</td>\n",
       "      <td>6074.982</td>\n",
       "      <td>Southeast</td>\n",
       "    </tr>\n",
       "    <tr>\n",
       "      <th>2</th>\n",
       "      <td>2011-05-31</td>\n",
       "      <td>Reseller</td>\n",
       "      <td>2024.994</td>\n",
       "      <td>Southeast</td>\n",
       "    </tr>\n",
       "    <tr>\n",
       "      <th>3</th>\n",
       "      <td>2011-05-31</td>\n",
       "      <td>Reseller</td>\n",
       "      <td>2039.994</td>\n",
       "      <td>Southeast</td>\n",
       "    </tr>\n",
       "    <tr>\n",
       "      <th>4</th>\n",
       "      <td>2011-05-31</td>\n",
       "      <td>Reseller</td>\n",
       "      <td>2039.994</td>\n",
       "      <td>Southeast</td>\n",
       "    </tr>\n",
       "  </tbody>\n",
       "</table>\n",
       "</div>"
      ],
      "text/plain": [
       "   OrderDate Sales_Channel  Total_Sales     Region\n",
       "0 2011-05-31      Reseller     2024.994  Southeast\n",
       "1 2011-05-31      Reseller     6074.982  Southeast\n",
       "2 2011-05-31      Reseller     2024.994  Southeast\n",
       "3 2011-05-31      Reseller     2039.994  Southeast\n",
       "4 2011-05-31      Reseller     2039.994  Southeast"
      ]
     },
     "execution_count": 2,
     "metadata": {},
     "output_type": "execute_result"
    }
   ],
   "source": [
    "import pyodbc \n",
    "import pandas as pd\n",
    "conn = pyodbc.connect('Driver={SQL Server};'\n",
    "                      'Server=DESKTOP-4P75PCB;'\n",
    "                      'Database=AdventureWorks2012;' \n",
    "                      'Trusted_Connection=yes;')\n",
    "\n",
    "\n",
    "sql_for_df1 = \"\"\"SELECT SOH.[OrderDate],CASE WHEN SOH.[OnlineOrderFlag] = 1 THEN 'Online' ELSE 'Reseller' END AS Sales_Channel,\n",
    "                SO.[OrderQty]*SO.[UnitPrice] AS Total_Sales,\n",
    "                ST.Name AS Region \n",
    "                FROM [Sales].[SalesOrderDetail] AS SO \\\n",
    "                INNER JOIN [Sales].[SalesOrderHeader] AS SOH \\\n",
    "                ON SO.SalesOrderID = SOH.SalesOrderID \\\n",
    "                INNER JOIN [Production].[Product] AS PP \\\n",
    "                ON SO.[ProductID] = PP.ProductID \\\n",
    "                INNER JOIN  [Production].[ProductSubcategory] AS PSC \\\n",
    "                ON PP.[ProductSubcategoryID] = PSC.[ProductSubcategoryID] \\\n",
    "                INNER JOIN [Production].[ProductCategory] AS PC \\\n",
    "                ON PSC.[ProductCategoryID] = PC.[ProductCategoryID] \\\n",
    "                INNER JOIN [Sales].[SalesTerritory] AS ST \\\n",
    "                ON ST.TerritoryID =SOH.TerritoryID \\\n",
    "                WHERE OnlineOrderFlag = '0' \"\"\"\n",
    "\n",
    "df = pd.read_sql(sql_for_df1 , conn)\n",
    "\n",
    "\n",
    "conn.close()\n",
    "df.head()"
   ]
  },
  {
   "cell_type": "code",
   "execution_count": 3,
   "id": "c0d3d921",
   "metadata": {},
   "outputs": [
    {
     "data": {
      "text/html": [
       "<div>\n",
       "<style scoped>\n",
       "    .dataframe tbody tr th:only-of-type {\n",
       "        vertical-align: middle;\n",
       "    }\n",
       "\n",
       "    .dataframe tbody tr th {\n",
       "        vertical-align: top;\n",
       "    }\n",
       "\n",
       "    .dataframe thead th {\n",
       "        text-align: right;\n",
       "    }\n",
       "</style>\n",
       "<table border=\"1\" class=\"dataframe\">\n",
       "  <thead>\n",
       "    <tr style=\"text-align: right;\">\n",
       "      <th></th>\n",
       "      <th>OrderDate</th>\n",
       "      <th>Sales_Channel</th>\n",
       "      <th>Total_Sales</th>\n",
       "      <th>Region</th>\n",
       "    </tr>\n",
       "  </thead>\n",
       "  <tbody>\n",
       "    <tr>\n",
       "      <th>0</th>\n",
       "      <td>2011-05-31</td>\n",
       "      <td>Reseller</td>\n",
       "      <td>2024.994</td>\n",
       "      <td>Southeast</td>\n",
       "    </tr>\n",
       "    <tr>\n",
       "      <th>1</th>\n",
       "      <td>2011-05-31</td>\n",
       "      <td>Reseller</td>\n",
       "      <td>6074.982</td>\n",
       "      <td>Southeast</td>\n",
       "    </tr>\n",
       "    <tr>\n",
       "      <th>2</th>\n",
       "      <td>2011-05-31</td>\n",
       "      <td>Reseller</td>\n",
       "      <td>2024.994</td>\n",
       "      <td>Southeast</td>\n",
       "    </tr>\n",
       "    <tr>\n",
       "      <th>3</th>\n",
       "      <td>2011-05-31</td>\n",
       "      <td>Reseller</td>\n",
       "      <td>2039.994</td>\n",
       "      <td>Southeast</td>\n",
       "    </tr>\n",
       "    <tr>\n",
       "      <th>4</th>\n",
       "      <td>2011-05-31</td>\n",
       "      <td>Reseller</td>\n",
       "      <td>2039.994</td>\n",
       "      <td>Southeast</td>\n",
       "    </tr>\n",
       "    <tr>\n",
       "      <th>...</th>\n",
       "      <td>...</td>\n",
       "      <td>...</td>\n",
       "      <td>...</td>\n",
       "      <td>...</td>\n",
       "    </tr>\n",
       "    <tr>\n",
       "      <th>60914</th>\n",
       "      <td>2014-05-01</td>\n",
       "      <td>Reseller</td>\n",
       "      <td>316.860</td>\n",
       "      <td>Southwest</td>\n",
       "    </tr>\n",
       "    <tr>\n",
       "      <th>60915</th>\n",
       "      <td>2014-05-01</td>\n",
       "      <td>Reseller</td>\n",
       "      <td>809.760</td>\n",
       "      <td>Southwest</td>\n",
       "    </tr>\n",
       "    <tr>\n",
       "      <th>60916</th>\n",
       "      <td>2014-05-01</td>\n",
       "      <td>Reseller</td>\n",
       "      <td>3274.800</td>\n",
       "      <td>Southwest</td>\n",
       "    </tr>\n",
       "    <tr>\n",
       "      <th>60917</th>\n",
       "      <td>2014-05-01</td>\n",
       "      <td>Reseller</td>\n",
       "      <td>97.182</td>\n",
       "      <td>Southwest</td>\n",
       "    </tr>\n",
       "    <tr>\n",
       "      <th>60918</th>\n",
       "      <td>2014-05-01</td>\n",
       "      <td>Reseller</td>\n",
       "      <td>338.994</td>\n",
       "      <td>Southwest</td>\n",
       "    </tr>\n",
       "  </tbody>\n",
       "</table>\n",
       "<p>60919 rows × 4 columns</p>\n",
       "</div>"
      ],
      "text/plain": [
       "       OrderDate Sales_Channel  Total_Sales     Region\n",
       "0     2011-05-31      Reseller     2024.994  Southeast\n",
       "1     2011-05-31      Reseller     6074.982  Southeast\n",
       "2     2011-05-31      Reseller     2024.994  Southeast\n",
       "3     2011-05-31      Reseller     2039.994  Southeast\n",
       "4     2011-05-31      Reseller     2039.994  Southeast\n",
       "...          ...           ...          ...        ...\n",
       "60914 2014-05-01      Reseller      316.860  Southwest\n",
       "60915 2014-05-01      Reseller      809.760  Southwest\n",
       "60916 2014-05-01      Reseller     3274.800  Southwest\n",
       "60917 2014-05-01      Reseller       97.182  Southwest\n",
       "60918 2014-05-01      Reseller      338.994  Southwest\n",
       "\n",
       "[60919 rows x 4 columns]"
      ]
     },
     "execution_count": 3,
     "metadata": {},
     "output_type": "execute_result"
    }
   ],
   "source": [
    "df = pd.DataFrame(df)\n",
    "df.reset_index(drop=True, inplace=True)\n",
    "df\n"
   ]
  },
  {
   "cell_type": "code",
   "execution_count": 4,
   "id": "b4c63837",
   "metadata": {},
   "outputs": [
    {
     "data": {
      "text/plain": [
       "Timestamp('2014-05-01 00:00:00')"
      ]
     },
     "execution_count": 4,
     "metadata": {},
     "output_type": "execute_result"
    }
   ],
   "source": [
    "df.OrderDate.max() "
   ]
  },
  {
   "cell_type": "code",
   "execution_count": 5,
   "id": "c6b5ae21",
   "metadata": {},
   "outputs": [
    {
     "data": {
      "text/plain": [
       "Timestamp('2011-05-31 00:00:00')"
      ]
     },
     "execution_count": 5,
     "metadata": {},
     "output_type": "execute_result"
    }
   ],
   "source": [
    "df.OrderDate.min()"
   ]
  },
  {
   "cell_type": "code",
   "execution_count": 82,
   "id": "81237bd7",
   "metadata": {},
   "outputs": [],
   "source": [
    "#df['OrderDate']=pd.to_datetime(df['OrderDate'])"
   ]
  },
  {
   "cell_type": "code",
   "execution_count": 7,
   "id": "800d88a1",
   "metadata": {},
   "outputs": [
    {
     "data": {
      "text/html": [
       "<div>\n",
       "<style scoped>\n",
       "    .dataframe tbody tr th:only-of-type {\n",
       "        vertical-align: middle;\n",
       "    }\n",
       "\n",
       "    .dataframe tbody tr th {\n",
       "        vertical-align: top;\n",
       "    }\n",
       "\n",
       "    .dataframe thead th {\n",
       "        text-align: right;\n",
       "    }\n",
       "</style>\n",
       "<table border=\"1\" class=\"dataframe\">\n",
       "  <thead>\n",
       "    <tr style=\"text-align: right;\">\n",
       "      <th></th>\n",
       "      <th>OrderDate</th>\n",
       "      <th>Sales_Channel</th>\n",
       "      <th>Total_Sales</th>\n",
       "      <th>Region</th>\n",
       "    </tr>\n",
       "  </thead>\n",
       "  <tbody>\n",
       "    <tr>\n",
       "      <th>51</th>\n",
       "      <td>2011-05-31</td>\n",
       "      <td>Reseller</td>\n",
       "      <td>419.4589</td>\n",
       "      <td>Southwest</td>\n",
       "    </tr>\n",
       "    <tr>\n",
       "      <th>70</th>\n",
       "      <td>2011-05-31</td>\n",
       "      <td>Reseller</td>\n",
       "      <td>419.4589</td>\n",
       "      <td>Southwest</td>\n",
       "    </tr>\n",
       "    <tr>\n",
       "      <th>71</th>\n",
       "      <td>2011-05-31</td>\n",
       "      <td>Reseller</td>\n",
       "      <td>2146.9620</td>\n",
       "      <td>Southwest</td>\n",
       "    </tr>\n",
       "    <tr>\n",
       "      <th>72</th>\n",
       "      <td>2011-05-31</td>\n",
       "      <td>Reseller</td>\n",
       "      <td>356.8980</td>\n",
       "      <td>Southwest</td>\n",
       "    </tr>\n",
       "    <tr>\n",
       "      <th>73</th>\n",
       "      <td>2011-05-31</td>\n",
       "      <td>Reseller</td>\n",
       "      <td>874.7940</td>\n",
       "      <td>Southwest</td>\n",
       "    </tr>\n",
       "    <tr>\n",
       "      <th>...</th>\n",
       "      <td>...</td>\n",
       "      <td>...</td>\n",
       "      <td>...</td>\n",
       "      <td>...</td>\n",
       "    </tr>\n",
       "    <tr>\n",
       "      <th>60914</th>\n",
       "      <td>2014-05-01</td>\n",
       "      <td>Reseller</td>\n",
       "      <td>316.8600</td>\n",
       "      <td>Southwest</td>\n",
       "    </tr>\n",
       "    <tr>\n",
       "      <th>60915</th>\n",
       "      <td>2014-05-01</td>\n",
       "      <td>Reseller</td>\n",
       "      <td>809.7600</td>\n",
       "      <td>Southwest</td>\n",
       "    </tr>\n",
       "    <tr>\n",
       "      <th>60916</th>\n",
       "      <td>2014-05-01</td>\n",
       "      <td>Reseller</td>\n",
       "      <td>3274.8000</td>\n",
       "      <td>Southwest</td>\n",
       "    </tr>\n",
       "    <tr>\n",
       "      <th>60917</th>\n",
       "      <td>2014-05-01</td>\n",
       "      <td>Reseller</td>\n",
       "      <td>97.1820</td>\n",
       "      <td>Southwest</td>\n",
       "    </tr>\n",
       "    <tr>\n",
       "      <th>60918</th>\n",
       "      <td>2014-05-01</td>\n",
       "      <td>Reseller</td>\n",
       "      <td>338.9940</td>\n",
       "      <td>Southwest</td>\n",
       "    </tr>\n",
       "  </tbody>\n",
       "</table>\n",
       "<p>13379 rows × 4 columns</p>\n",
       "</div>"
      ],
      "text/plain": [
       "       OrderDate Sales_Channel  Total_Sales     Region\n",
       "51    2011-05-31      Reseller     419.4589  Southwest\n",
       "70    2011-05-31      Reseller     419.4589  Southwest\n",
       "71    2011-05-31      Reseller    2146.9620  Southwest\n",
       "72    2011-05-31      Reseller     356.8980  Southwest\n",
       "73    2011-05-31      Reseller     874.7940  Southwest\n",
       "...          ...           ...          ...        ...\n",
       "60914 2014-05-01      Reseller     316.8600  Southwest\n",
       "60915 2014-05-01      Reseller     809.7600  Southwest\n",
       "60916 2014-05-01      Reseller    3274.8000  Southwest\n",
       "60917 2014-05-01      Reseller      97.1820  Southwest\n",
       "60918 2014-05-01      Reseller     338.9940  Southwest\n",
       "\n",
       "[13379 rows x 4 columns]"
      ]
     },
     "execution_count": 7,
     "metadata": {},
     "output_type": "execute_result"
    }
   ],
   "source": [
    "online_channel= df.loc[df['Region'] == 'Southwest',:]\n",
    "online_channel"
   ]
  },
  {
   "cell_type": "markdown",
   "id": "a8b3d9d0",
   "metadata": {},
   "source": [
    "### Data Preprocessing"
   ]
  },
  {
   "cell_type": "code",
   "execution_count": 8,
   "id": "da8db6b7",
   "metadata": {},
   "outputs": [
    {
     "data": {
      "text/plain": [
       "OrderDate      0\n",
       "Total_Sales    0\n",
       "dtype: int64"
      ]
     },
     "execution_count": 8,
     "metadata": {},
     "output_type": "execute_result"
    }
   ],
   "source": [
    "cols = ['Sales_Channel','Region']\n",
    "online_channel.drop(cols, axis=1, inplace=True)\n",
    "online_channel = online_channel.sort_values('OrderDate')\n",
    "online_channel.isnull().sum()\n"
   ]
  },
  {
   "cell_type": "code",
   "execution_count": 9,
   "id": "b848d0d4",
   "metadata": {},
   "outputs": [
    {
     "data": {
      "text/html": [
       "<div>\n",
       "<style scoped>\n",
       "    .dataframe tbody tr th:only-of-type {\n",
       "        vertical-align: middle;\n",
       "    }\n",
       "\n",
       "    .dataframe tbody tr th {\n",
       "        vertical-align: top;\n",
       "    }\n",
       "\n",
       "    .dataframe thead th {\n",
       "        text-align: right;\n",
       "    }\n",
       "</style>\n",
       "<table border=\"1\" class=\"dataframe\">\n",
       "  <thead>\n",
       "    <tr style=\"text-align: right;\">\n",
       "      <th></th>\n",
       "      <th>OrderDate</th>\n",
       "      <th>Total_Sales</th>\n",
       "    </tr>\n",
       "  </thead>\n",
       "  <tbody>\n",
       "    <tr>\n",
       "      <th>0</th>\n",
       "      <td>2011-05-31</td>\n",
       "      <td>1.000564e+05</td>\n",
       "    </tr>\n",
       "    <tr>\n",
       "      <th>1</th>\n",
       "      <td>2011-07-01</td>\n",
       "      <td>2.991945e+05</td>\n",
       "    </tr>\n",
       "    <tr>\n",
       "      <th>2</th>\n",
       "      <td>2011-08-01</td>\n",
       "      <td>3.965098e+05</td>\n",
       "    </tr>\n",
       "    <tr>\n",
       "      <th>3</th>\n",
       "      <td>2011-08-31</td>\n",
       "      <td>1.495139e+05</td>\n",
       "    </tr>\n",
       "    <tr>\n",
       "      <th>4</th>\n",
       "      <td>2011-10-01</td>\n",
       "      <td>4.611494e+05</td>\n",
       "    </tr>\n",
       "    <tr>\n",
       "      <th>5</th>\n",
       "      <td>2011-10-31</td>\n",
       "      <td>4.876436e+05</td>\n",
       "    </tr>\n",
       "    <tr>\n",
       "      <th>6</th>\n",
       "      <td>2011-12-01</td>\n",
       "      <td>1.161828e+05</td>\n",
       "    </tr>\n",
       "    <tr>\n",
       "      <th>7</th>\n",
       "      <td>2012-01-01</td>\n",
       "      <td>5.018377e+05</td>\n",
       "    </tr>\n",
       "    <tr>\n",
       "      <th>8</th>\n",
       "      <td>2012-01-29</td>\n",
       "      <td>3.920309e+05</td>\n",
       "    </tr>\n",
       "    <tr>\n",
       "      <th>9</th>\n",
       "      <td>2012-02-29</td>\n",
       "      <td>1.301641e+05</td>\n",
       "    </tr>\n",
       "    <tr>\n",
       "      <th>10</th>\n",
       "      <td>2012-03-30</td>\n",
       "      <td>5.897616e+05</td>\n",
       "    </tr>\n",
       "    <tr>\n",
       "      <th>11</th>\n",
       "      <td>2012-04-30</td>\n",
       "      <td>3.167312e+05</td>\n",
       "    </tr>\n",
       "    <tr>\n",
       "      <th>12</th>\n",
       "      <td>2012-05-30</td>\n",
       "      <td>5.005425e+05</td>\n",
       "    </tr>\n",
       "    <tr>\n",
       "      <th>13</th>\n",
       "      <td>2012-06-30</td>\n",
       "      <td>8.920329e+05</td>\n",
       "    </tr>\n",
       "    <tr>\n",
       "      <th>14</th>\n",
       "      <td>2012-07-31</td>\n",
       "      <td>1.030256e+06</td>\n",
       "    </tr>\n",
       "    <tr>\n",
       "      <th>15</th>\n",
       "      <td>2012-08-30</td>\n",
       "      <td>4.049497e+05</td>\n",
       "    </tr>\n",
       "    <tr>\n",
       "      <th>16</th>\n",
       "      <td>2012-09-30</td>\n",
       "      <td>7.822091e+05</td>\n",
       "    </tr>\n",
       "    <tr>\n",
       "      <th>17</th>\n",
       "      <td>2012-10-30</td>\n",
       "      <td>6.743089e+05</td>\n",
       "    </tr>\n",
       "    <tr>\n",
       "      <th>18</th>\n",
       "      <td>2012-11-30</td>\n",
       "      <td>2.759912e+05</td>\n",
       "    </tr>\n",
       "    <tr>\n",
       "      <th>19</th>\n",
       "      <td>2012-12-31</td>\n",
       "      <td>6.396555e+05</td>\n",
       "    </tr>\n",
       "    <tr>\n",
       "      <th>20</th>\n",
       "      <td>2013-01-28</td>\n",
       "      <td>4.383042e+05</td>\n",
       "    </tr>\n",
       "    <tr>\n",
       "      <th>21</th>\n",
       "      <td>2013-02-28</td>\n",
       "      <td>3.962640e+05</td>\n",
       "    </tr>\n",
       "    <tr>\n",
       "      <th>22</th>\n",
       "      <td>2013-03-30</td>\n",
       "      <td>7.943464e+05</td>\n",
       "    </tr>\n",
       "    <tr>\n",
       "      <th>23</th>\n",
       "      <td>2013-04-30</td>\n",
       "      <td>6.304583e+05</td>\n",
       "    </tr>\n",
       "    <tr>\n",
       "      <th>24</th>\n",
       "      <td>2013-05-30</td>\n",
       "      <td>7.839920e+05</td>\n",
       "    </tr>\n",
       "    <tr>\n",
       "      <th>25</th>\n",
       "      <td>2013-06-30</td>\n",
       "      <td>6.735556e+05</td>\n",
       "    </tr>\n",
       "    <tr>\n",
       "      <th>26</th>\n",
       "      <td>2013-07-31</td>\n",
       "      <td>7.841181e+05</td>\n",
       "    </tr>\n",
       "    <tr>\n",
       "      <th>27</th>\n",
       "      <td>2013-08-30</td>\n",
       "      <td>6.273204e+05</td>\n",
       "    </tr>\n",
       "    <tr>\n",
       "      <th>28</th>\n",
       "      <td>2013-09-30</td>\n",
       "      <td>5.682922e+05</td>\n",
       "    </tr>\n",
       "    <tr>\n",
       "      <th>29</th>\n",
       "      <td>2013-10-30</td>\n",
       "      <td>5.761452e+05</td>\n",
       "    </tr>\n",
       "    <tr>\n",
       "      <th>30</th>\n",
       "      <td>2013-11-30</td>\n",
       "      <td>4.726535e+05</td>\n",
       "    </tr>\n",
       "    <tr>\n",
       "      <th>31</th>\n",
       "      <td>2013-12-31</td>\n",
       "      <td>5.105374e+05</td>\n",
       "    </tr>\n",
       "    <tr>\n",
       "      <th>32</th>\n",
       "      <td>2014-01-29</td>\n",
       "      <td>4.581663e+05</td>\n",
       "    </tr>\n",
       "    <tr>\n",
       "      <th>33</th>\n",
       "      <td>2014-03-01</td>\n",
       "      <td>5.820783e+05</td>\n",
       "    </tr>\n",
       "    <tr>\n",
       "      <th>34</th>\n",
       "      <td>2014-03-31</td>\n",
       "      <td>5.642385e+05</td>\n",
       "    </tr>\n",
       "    <tr>\n",
       "      <th>35</th>\n",
       "      <td>2014-05-01</td>\n",
       "      <td>5.968348e+05</td>\n",
       "    </tr>\n",
       "  </tbody>\n",
       "</table>\n",
       "</div>"
      ],
      "text/plain": [
       "    OrderDate   Total_Sales\n",
       "0  2011-05-31  1.000564e+05\n",
       "1  2011-07-01  2.991945e+05\n",
       "2  2011-08-01  3.965098e+05\n",
       "3  2011-08-31  1.495139e+05\n",
       "4  2011-10-01  4.611494e+05\n",
       "5  2011-10-31  4.876436e+05\n",
       "6  2011-12-01  1.161828e+05\n",
       "7  2012-01-01  5.018377e+05\n",
       "8  2012-01-29  3.920309e+05\n",
       "9  2012-02-29  1.301641e+05\n",
       "10 2012-03-30  5.897616e+05\n",
       "11 2012-04-30  3.167312e+05\n",
       "12 2012-05-30  5.005425e+05\n",
       "13 2012-06-30  8.920329e+05\n",
       "14 2012-07-31  1.030256e+06\n",
       "15 2012-08-30  4.049497e+05\n",
       "16 2012-09-30  7.822091e+05\n",
       "17 2012-10-30  6.743089e+05\n",
       "18 2012-11-30  2.759912e+05\n",
       "19 2012-12-31  6.396555e+05\n",
       "20 2013-01-28  4.383042e+05\n",
       "21 2013-02-28  3.962640e+05\n",
       "22 2013-03-30  7.943464e+05\n",
       "23 2013-04-30  6.304583e+05\n",
       "24 2013-05-30  7.839920e+05\n",
       "25 2013-06-30  6.735556e+05\n",
       "26 2013-07-31  7.841181e+05\n",
       "27 2013-08-30  6.273204e+05\n",
       "28 2013-09-30  5.682922e+05\n",
       "29 2013-10-30  5.761452e+05\n",
       "30 2013-11-30  4.726535e+05\n",
       "31 2013-12-31  5.105374e+05\n",
       "32 2014-01-29  4.581663e+05\n",
       "33 2014-03-01  5.820783e+05\n",
       "34 2014-03-31  5.642385e+05\n",
       "35 2014-05-01  5.968348e+05"
      ]
     },
     "execution_count": 9,
     "metadata": {},
     "output_type": "execute_result"
    }
   ],
   "source": [
    "online_channel = online_channel.groupby('OrderDate')['Total_Sales'].sum().reset_index()\n",
    "online_channel"
   ]
  },
  {
   "cell_type": "markdown",
   "id": "a6cb1d15",
   "metadata": {},
   "source": [
    "### Indexing with Time Series Data"
   ]
  },
  {
   "cell_type": "code",
   "execution_count": 10,
   "id": "4b6aa687",
   "metadata": {},
   "outputs": [
    {
     "data": {
      "text/plain": [
       "DatetimeIndex(['2011-05-31', '2011-07-01', '2011-08-01', '2011-08-31',\n",
       "               '2011-10-01', '2011-10-31', '2011-12-01', '2012-01-01',\n",
       "               '2012-01-29', '2012-02-29', '2012-03-30', '2012-04-30',\n",
       "               '2012-05-30', '2012-06-30', '2012-07-31', '2012-08-30',\n",
       "               '2012-09-30', '2012-10-30', '2012-11-30', '2012-12-31',\n",
       "               '2013-01-28', '2013-02-28', '2013-03-30', '2013-04-30',\n",
       "               '2013-05-30', '2013-06-30', '2013-07-31', '2013-08-30',\n",
       "               '2013-09-30', '2013-10-30', '2013-11-30', '2013-12-31',\n",
       "               '2014-01-29', '2014-03-01', '2014-03-31', '2014-05-01'],\n",
       "              dtype='datetime64[ns]', name='OrderDate', freq=None)"
      ]
     },
     "execution_count": 10,
     "metadata": {},
     "output_type": "execute_result"
    }
   ],
   "source": [
    "online_channel = online_channel.set_index('OrderDate')\n",
    "online_channel.index"
   ]
  },
  {
   "cell_type": "markdown",
   "id": "51ecec67",
   "metadata": {},
   "source": [
    "current datetime data can be tricky to work with, therefore, we will use the averages daily sales value for that month instead, and we are using the start of each month as the timestamp."
   ]
  },
  {
   "cell_type": "code",
   "execution_count": 11,
   "id": "01b6d730",
   "metadata": {},
   "outputs": [],
   "source": [
    "y = online_channel['Total_Sales'].resample('MS').mean()\n",
    "y = y.fillna(y.bfill())"
   ]
  },
  {
   "cell_type": "code",
   "execution_count": 12,
   "id": "9ca889a8",
   "metadata": {},
   "outputs": [
    {
     "data": {
      "text/plain": [
       "OrderDate\n",
       "2014-01-01    458166.29520\n",
       "2014-02-01    573158.41355\n",
       "2014-03-01    573158.41355\n",
       "2014-04-01    596834.78410\n",
       "2014-05-01    596834.78410\n",
       "Freq: MS, Name: Total_Sales, dtype: float64"
      ]
     },
     "execution_count": 12,
     "metadata": {},
     "output_type": "execute_result"
    }
   ],
   "source": [
    "y['2014':]"
   ]
  },
  {
   "cell_type": "code",
   "execution_count": 13,
   "id": "2b950ff1",
   "metadata": {},
   "outputs": [
    {
     "data": {
      "image/png": "[encoded data removed]",
      "text/plain": [
       "<Figure size 1080x432 with 1 Axes>"
      ]
     },
     "metadata": {},
     "output_type": "display_data"
    }
   ],
   "source": [
    "#Visualizing Country Sales Time Series Data\n",
    "y.plot(figsize=(15, 6))\n",
    "plt.show()"
   ]
  },
  {
   "cell_type": "markdown",
   "id": "a7eef6d4",
   "metadata": {},
   "source": [
    "Some distinguishable patterns appear when we plot the data. The time-series has seasonality pattern, such as sales are always low at the beginning of the year and high at the end of the year. There is always an upward trend within any single year with a couple of low months in the mid of the year.\n",
    "We can also visualize our data using a method called time-series decomposition that allows us to decompose our time series into three distinct components: trend, seasonality, and noise."
   ]
  },
  {
   "cell_type": "markdown",
   "id": "46920421",
   "metadata": {},
   "source": [
    "### Time series forecasting with ARIMA\n",
    "We are going to apply one of the most commonly used method for time-series forecasting, known as ARIMA, which stands for Autoregressive Integrated Moving Average.\n",
    "ARIMA models are denoted with the notation ARIMA(p, d, q). These three parameters account for seasonality, trend, and noise in data:"
   ]
  },
  {
   "cell_type": "code",
   "execution_count": 14,
   "id": "c916aa55",
   "metadata": {},
   "outputs": [
    {
     "name": "stdout",
     "output_type": "stream",
     "text": [
      "Examples of parameter combinations for Seasonal ARIMA...\n",
      "SARIMAX: (0, 0, 1) x (0, 0, 1, 12)\n",
      "SARIMAX: (0, 0, 1) x (0, 1, 0, 12)\n",
      "SARIMAX: (0, 1, 0) x (0, 1, 1, 12)\n",
      "SARIMAX: (0, 1, 0) x (1, 0, 0, 12)\n"
     ]
    }
   ],
   "source": [
    "p = d = q = range(0, 2)\n",
    "pdq = list(itertools.product(p, d, q))\n",
    "seasonal_pdq = [(x[0], x[1], x[2], 12) for x in list(itertools.product(p, d, q))]\n",
    "print('Examples of parameter combinations for Seasonal ARIMA...')\n",
    "print('SARIMAX: {} x {}'.format(pdq[1], seasonal_pdq[1]))\n",
    "print('SARIMAX: {} x {}'.format(pdq[1], seasonal_pdq[2]))\n",
    "print('SARIMAX: {} x {}'.format(pdq[2], seasonal_pdq[3]))\n",
    "print('SARIMAX: {} x {}'.format(pdq[2], seasonal_pdq[4]))"
   ]
  },
  {
   "cell_type": "markdown",
   "id": "271e4391",
   "metadata": {},
   "source": [
    "This step is parameter Selection for our furniture’s sales ARIMA Time Series Model. Our goal here is to use a “grid search” to find the optimal set of parameters that yields the best performance for our model."
   ]
  },
  {
   "cell_type": "code",
   "execution_count": 15,
   "id": "3dd580df",
   "metadata": {},
   "outputs": [
    {
     "name": "stdout",
     "output_type": "stream",
     "text": [
      "ARIMA(0, 0, 0)x(0, 0, 0, 12)12 - AIC:1057.4701444468622\n",
      "ARIMA(0, 0, 0)x(0, 0, 1, 12)12 - AIC:695.986760331903\n",
      "ARIMA(0, 0, 0)x(0, 1, 0, 12)12 - AIC:675.5088788760188\n",
      "ARIMA(0, 0, 0)x(0, 1, 1, 12)12 - AIC:328.7508176205629\n",
      "ARIMA(0, 0, 0)x(1, 0, 0, 12)12 - AIC:704.5298640404296\n",
      "ARIMA(0, 0, 0)x(1, 0, 1, 12)12 - AIC:672.4871666015308\n",
      "ARIMA(0, 0, 0)x(1, 1, 0, 12)12 - AIC:354.7447025394254\n",
      "ARIMA(0, 0, 0)x(1, 1, 1, 12)12 - AIC:330.73211763647134\n",
      "ARIMA(0, 0, 1)x(0, 0, 0, 12)12 - AIC:1012.7899165689538\n",
      "ARIMA(0, 0, 1)x(0, 0, 1, 12)12 - AIC:663.8196555322443\n",
      "ARIMA(0, 0, 1)x(0, 1, 0, 12)12 - AIC:641.5400062866203\n",
      "ARIMA(0, 0, 1)x(0, 1, 1, 12)12 - AIC:301.05858065362173\n",
      "ARIMA(0, 0, 1)x(1, 0, 0, 12)12 - AIC:720.5803803575245\n",
      "ARIMA(0, 0, 1)x(1, 0, 1, 12)12 - AIC:664.3514543074723\n",
      "ARIMA(0, 0, 1)x(1, 1, 0, 12)12 - AIC:358.3452446887569\n",
      "ARIMA(0, 0, 1)x(1, 1, 1, 12)12 - AIC:302.98771780542296\n",
      "ARIMA(0, 1, 0)x(0, 0, 0, 12)12 - AIC:968.9431295897529\n",
      "ARIMA(0, 1, 0)x(0, 0, 1, 12)12 - AIC:633.3813812913221\n",
      "ARIMA(0, 1, 0)x(0, 1, 0, 12)12 - AIC:650.1437945799906\n",
      "ARIMA(0, 1, 0)x(0, 1, 1, 12)12 - AIC:301.66419261532917\n",
      "ARIMA(0, 1, 0)x(1, 0, 0, 12)12 - AIC:662.3061721239368\n",
      "ARIMA(0, 1, 0)x(1, 0, 1, 12)12 - AIC:634.8351424102948\n",
      "ARIMA(0, 1, 0)x(1, 1, 0, 12)12 - AIC:336.7725190581039\n",
      "ARIMA(0, 1, 0)x(1, 1, 1, 12)12 - AIC:303.33055159584654\n",
      "ARIMA(0, 1, 1)x(0, 0, 0, 12)12 - AIC:931.764811396325\n",
      "ARIMA(0, 1, 1)x(0, 0, 1, 12)12 - AIC:592.7941703073275\n",
      "ARIMA(0, 1, 1)x(0, 1, 0, 12)12 - AIC:608.6369309257079\n",
      "ARIMA(0, 1, 1)x(0, 1, 1, 12)12 - AIC:272.95000475017014\n",
      "ARIMA(0, 1, 1)x(1, 0, 0, 12)12 - AIC:656.3489387376924\n",
      "ARIMA(0, 1, 1)x(1, 0, 1, 12)12 - AIC:594.4879660180484\n",
      "ARIMA(0, 1, 1)x(1, 1, 0, 12)12 - AIC:333.90816394761555\n",
      "ARIMA(0, 1, 1)x(1, 1, 1, 12)12 - AIC:275.07630076078385\n",
      "ARIMA(1, 0, 0)x(0, 0, 0, 12)12 - AIC:997.0285191516917\n",
      "ARIMA(1, 0, 0)x(0, 0, 1, 12)12 - AIC:662.4632176655142\n",
      "ARIMA(1, 0, 0)x(0, 1, 0, 12)12 - AIC:669.0497408071383\n",
      "ARIMA(1, 0, 0)x(0, 1, 1, 12)12 - AIC:329.7775549709925\n",
      "ARIMA(1, 0, 0)x(1, 0, 0, 12)12 - AIC:663.335258859398\n",
      "ARIMA(1, 0, 0)x(1, 0, 1, 12)12 - AIC:664.1868370291622\n",
      "ARIMA(1, 0, 0)x(1, 1, 0, 12)12 - AIC:329.8195420489579\n",
      "ARIMA(1, 0, 0)x(1, 1, 1, 12)12 - AIC:331.7703645677005\n",
      "ARIMA(1, 0, 1)x(0, 0, 0, 12)12 - AIC:960.1850977306185\n",
      "ARIMA(1, 0, 1)x(0, 0, 1, 12)12 - AIC:625.7165795656164\n",
      "ARIMA(1, 0, 1)x(0, 1, 0, 12)12 - AIC:636.7780978992625\n",
      "ARIMA(1, 0, 1)x(0, 1, 1, 12)12 - AIC:296.85267254742456\n",
      "ARIMA(1, 0, 1)x(1, 0, 0, 12)12 - AIC:656.9386209642652\n",
      "ARIMA(1, 0, 1)x(1, 0, 1, 12)12 - AIC:627.6904630235466\n",
      "ARIMA(1, 0, 1)x(1, 1, 0, 12)12 - AIC:327.815690986515\n",
      "ARIMA(1, 0, 1)x(1, 1, 1, 12)12 - AIC:298.5018347931372\n",
      "ARIMA(1, 1, 0)x(0, 0, 0, 12)12 - AIC:961.6679498360003\n",
      "ARIMA(1, 1, 0)x(0, 0, 1, 12)12 - AIC:628.8839259276222\n",
      "ARIMA(1, 1, 0)x(0, 1, 0, 12)12 - AIC:642.4872669109917\n",
      "ARIMA(1, 1, 0)x(0, 1, 1, 12)12 - AIC:301.1102800355232\n",
      "ARIMA(1, 1, 0)x(1, 0, 0, 12)12 - AIC:629.4220096075543\n",
      "ARIMA(1, 1, 0)x(1, 0, 1, 12)12 - AIC:630.4598202830597\n",
      "ARIMA(1, 1, 0)x(1, 1, 0, 12)12 - AIC:306.30536643728385\n",
      "ARIMA(1, 1, 0)x(1, 1, 1, 12)12 - AIC:302.9246578417478\n",
      "ARIMA(1, 1, 1)x(0, 0, 0, 12)12 - AIC:933.595923886183\n",
      "ARIMA(1, 1, 1)x(0, 0, 1, 12)12 - AIC:593.5743434207349\n",
      "ARIMA(1, 1, 1)x(0, 1, 0, 12)12 - AIC:609.9349533397647\n",
      "ARIMA(1, 1, 1)x(0, 1, 1, 12)12 - AIC:274.5086413027427\n",
      "ARIMA(1, 1, 1)x(1, 0, 0, 12)12 - AIC:627.8165915731577\n",
      "ARIMA(1, 1, 1)x(1, 0, 1, 12)12 - AIC:595.1208709684589\n",
      "ARIMA(1, 1, 1)x(1, 1, 0, 12)12 - AIC:306.4869419667677\n",
      "ARIMA(1, 1, 1)x(1, 1, 1, 12)12 - AIC:276.28373279776883\n"
     ]
    }
   ],
   "source": [
    "warnings.filterwarnings(\"ignore\")\n",
    "for param in pdq:\n",
    "    for param_seasonal in seasonal_pdq:\n",
    "        try:\n",
    "            mod = sm.tsa.statespace.SARIMAX(y,\n",
    "                                            order=param,\n",
    "                                            seasonal_order=param_seasonal,\n",
    "                                            enforce_stationarity=False,\n",
    "                                            enforce_invertibility=False)\n",
    "\n",
    "            results = mod.fit()\n",
    "\n",
    "            print('ARIMA{}x{}12 - AIC:{}'.format(param, param_seasonal, results.aic))\n",
    "        except:\n",
    "            continue"
   ]
  },
  {
   "cell_type": "markdown",
   "id": "8744aa53",
   "metadata": {},
   "source": [
    " ### Fitting an ARIMA Time Series Model"
   ]
  },
  {
   "cell_type": "code",
   "execution_count": 16,
   "id": "162b89ad",
   "metadata": {},
   "outputs": [
    {
     "name": "stdout",
     "output_type": "stream",
     "text": [
      "==============================================================================\n",
      "                 coef    std err          z      P>|z|      [0.025      0.975]\n",
      "------------------------------------------------------------------------------\n",
      "ar.L1         -0.3451    116.887     -0.003      0.998    -229.439     228.748\n",
      "ma.L1          0.3522    126.059      0.003      0.998    -246.719     247.424\n",
      "ar.S.L12       0.3601      4.048      0.089      0.929      -7.574       8.294\n",
      "ma.S.L12      -1.1887      2.607     -0.456      0.648      -6.298       3.921\n",
      "sigma2      5.489e+10   3.25e-08   1.69e+18      0.000    5.49e+10    5.49e+10\n",
      "==============================================================================\n"
     ]
    }
   ],
   "source": [
    "mod = sm.tsa.statespace.SARIMAX(y,\n",
    "                                order=(1, 1, 1),\n",
    "                                seasonal_order=(1, 1, 1, 12),\n",
    "                                enforce_stationarity=False,\n",
    "                                enforce_invertibility=False)\n",
    "\n",
    "results = mod.fit()\n",
    "\n",
    "print(results.summary().tables[1])"
   ]
  },
  {
   "cell_type": "markdown",
   "id": "4e1ab620",
   "metadata": {},
   "source": [
    "### Validating forecasts"
   ]
  },
  {
   "cell_type": "code",
   "execution_count": 18,
   "id": "564835ce",
   "metadata": {},
   "outputs": [],
   "source": [
    "pred = results.get_prediction(start=pd.to_datetime('2011-06-01'), end=pd.to_datetime('2014-05-31 05:40:00'),dynamic=True, full_results=True)\n",
    "pred_ci = pred.conf_int()\n",
    "\n"
   ]
  },
  {
   "cell_type": "code",
   "execution_count": 19,
   "id": "8f596801",
   "metadata": {},
   "outputs": [
    {
     "data": {
      "image/png": "[encoded data removed]",
      "text/plain": [
       "<Figure size 432x288 with 1 Axes>"
      ]
     },
     "metadata": {},
     "output_type": "display_data"
    }
   ],
   "source": [
    "ax = y['2011':].plot(label='observed')\n",
    "pred.predicted_mean.plot(ax=ax, label='One-step ahead Forecast', alpha=.7)\n",
    "\n",
    "ax.fill_between(pred_ci.index,\n",
    "                pred_ci.iloc[:, 0],\n",
    "                pred_ci.iloc[:, 1], color='k', alpha=.2)\n",
    "\n",
    "ax.set_xlabel('OrderDate')\n",
    "ax.set_ylabel('TOtal Sales')\n",
    "plt.legend()\n",
    "\n",
    "plt.show()"
   ]
  },
  {
   "cell_type": "code",
   "execution_count": 20,
   "id": "2cf3afaf",
   "metadata": {},
   "outputs": [
    {
     "name": "stdout",
     "output_type": "stream",
     "text": [
      "The Mean Squared Error of our forecasts is 101070660056.98\n"
     ]
    }
   ],
   "source": [
    "y_forecasted = pred.predicted_mean\n",
    "y_truth = y['2014-01-01':]\n",
    "mse = ((y_forecasted - y_truth) ** 2).mean()\n",
    "print('The Mean Squared Error of our forecasts is {}'.format(round(mse, 2)))\n"
   ]
  },
  {
   "cell_type": "code",
   "execution_count": 21,
   "id": "38153180",
   "metadata": {},
   "outputs": [
    {
     "name": "stdout",
     "output_type": "stream",
     "text": [
      "The Root Mean Squared Error of our forecasts is 317916.12\n"
     ]
    }
   ],
   "source": [
    "print('The Root Mean Squared Error of our forecasts is {}'.format(round(np.sqrt(mse), 2)))"
   ]
  },
  {
   "cell_type": "code",
   "execution_count": 23,
   "id": "3afc9779",
   "metadata": {
    "scrolled": false
   },
   "outputs": [
    {
     "data": {
      "image/png": "[encoded data removed]",
      "text/plain": [
       "<Figure size 1008x504 with 1 Axes>"
      ]
     },
     "metadata": {},
     "output_type": "display_data"
    }
   ],
   "source": [
    "pred_uc = results.get_forecast(steps=100)\n",
    "pred_ci = pred_uc.conf_int()\n",
    "ax = y.plot(label='observed', figsize=(14, 7))\n",
    "pred_uc.predicted_mean.plot(ax=ax, label='Reseller Forecast for US-SouthWest Region')\n",
    "ax.fill_between(pred_ci.index,\n",
    "                pred_ci.iloc[:, 0],\n",
    "                pred_ci.iloc[:, 1], color='k', alpha=.25)\n",
    "ax.set_xlabel('OrderDate')\n",
    "ax.set_ylabel('TOtal Sales')\n",
    "plt.legend()\n",
    "plt.show()"
   ]
  },
  {
   "cell_type": "code",
   "execution_count": null,
   "id": "51b4e070",
   "metadata": {},
   "outputs": [],
   "source": []
  }
 ],
 "metadata": {
  "kernelspec": {
   "display_name": "Python 3",
   "language": "python",
   "name": "python3"
  },
  "language_info": {
   "codemirror_mode": {
    "name": "ipython",
    "version": 3
   },
   "file_extension": ".py",
   "mimetype": "text/x-python",
   "name": "python",
   "nbconvert_exporter": "python",
   "pygments_lexer": "ipython3",
   "version": "3.8.8"
  }
 },
 "nbformat": 4,
 "nbformat_minor": 5
}
