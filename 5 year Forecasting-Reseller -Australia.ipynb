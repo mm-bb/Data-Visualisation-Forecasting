{
 "cells": [
  {
   "cell_type": "markdown",
   "id": "a36af659",
   "metadata": {},
   "source": [
    "#### 5 year Forecasting With ResellerSales\n"
   ]
  },
  {
   "cell_type": "code",
   "execution_count": 1,
   "id": "98045ad7",
   "metadata": {},
   "outputs": [],
   "source": [
    "import warnings\n",
    "import itertools\n",
    "import numpy as np\n",
    "import matplotlib.pyplot as plt\n",
    "warnings.filterwarnings(\"ignore\")\n",
    "plt.style.use('fivethirtyeight')\n",
    "import pandas as pd\n",
    "import statsmodels.api as sm\n",
    "import matplotlib\n",
    "matplotlib.rcParams['axes.labelsize'] = 14\n",
    "matplotlib.rcParams['xtick.labelsize'] = 12\n",
    "matplotlib.rcParams['ytick.labelsize'] = 12\n",
    "matplotlib.rcParams['text.color'] = 'k'"
   ]
  },
  {
   "cell_type": "code",
   "execution_count": 2,
   "id": "36bdae9a",
   "metadata": {},
   "outputs": [
    {
     "data": {
      "text/html": [
       "<div>\n",
       "<style scoped>\n",
       "    .dataframe tbody tr th:only-of-type {\n",
       "        vertical-align: middle;\n",
       "    }\n",
       "\n",
       "    .dataframe tbody tr th {\n",
       "        vertical-align: top;\n",
       "    }\n",
       "\n",
       "    .dataframe thead th {\n",
       "        text-align: right;\n",
       "    }\n",
       "</style>\n",
       "<table border=\"1\" class=\"dataframe\">\n",
       "  <thead>\n",
       "    <tr style=\"text-align: right;\">\n",
       "      <th></th>\n",
       "      <th>OrderDate</th>\n",
       "      <th>Sales_Channel</th>\n",
       "      <th>Total_Sales</th>\n",
       "      <th>Region</th>\n",
       "    </tr>\n",
       "  </thead>\n",
       "  <tbody>\n",
       "    <tr>\n",
       "      <th>0</th>\n",
       "      <td>2011-05-31</td>\n",
       "      <td>Reseller</td>\n",
       "      <td>2024.994</td>\n",
       "      <td>Southeast</td>\n",
       "    </tr>\n",
       "    <tr>\n",
       "      <th>1</th>\n",
       "      <td>2011-05-31</td>\n",
       "      <td>Reseller</td>\n",
       "      <td>6074.982</td>\n",
       "      <td>Southeast</td>\n",
       "    </tr>\n",
       "    <tr>\n",
       "      <th>2</th>\n",
       "      <td>2011-05-31</td>\n",
       "      <td>Reseller</td>\n",
       "      <td>2024.994</td>\n",
       "      <td>Southeast</td>\n",
       "    </tr>\n",
       "    <tr>\n",
       "      <th>3</th>\n",
       "      <td>2011-05-31</td>\n",
       "      <td>Reseller</td>\n",
       "      <td>2039.994</td>\n",
       "      <td>Southeast</td>\n",
       "    </tr>\n",
       "    <tr>\n",
       "      <th>4</th>\n",
       "      <td>2011-05-31</td>\n",
       "      <td>Reseller</td>\n",
       "      <td>2039.994</td>\n",
       "      <td>Southeast</td>\n",
       "    </tr>\n",
       "  </tbody>\n",
       "</table>\n",
       "</div>"
      ],
      "text/plain": [
       "   OrderDate Sales_Channel  Total_Sales     Region\n",
       "0 2011-05-31      Reseller     2024.994  Southeast\n",
       "1 2011-05-31      Reseller     6074.982  Southeast\n",
       "2 2011-05-31      Reseller     2024.994  Southeast\n",
       "3 2011-05-31      Reseller     2039.994  Southeast\n",
       "4 2011-05-31      Reseller     2039.994  Southeast"
      ]
     },
     "execution_count": 2,
     "metadata": {},
     "output_type": "execute_result"
    }
   ],
   "source": [
    "import pyodbc \n",
    "import pandas as pd\n",
    "conn = pyodbc.connect('Driver={SQL Server};'\n",
    "                      'Server=DESKTOP-4P75PCB;'\n",
    "                      'Database=AdventureWorks2012;' \n",
    "                      'Trusted_Connection=yes;')\n",
    "\n",
    "\n",
    "sql_for_df1 = \"\"\"SELECT SOH.[OrderDate],CASE WHEN SOH.[OnlineOrderFlag] = 1 THEN 'Online' ELSE 'Reseller' END AS Sales_Channel,\n",
    "                SO.[OrderQty]*SO.[UnitPrice] AS Total_Sales,\n",
    "                ST.Name AS Region \n",
    "                FROM [Sales].[SalesOrderDetail] AS SO \\\n",
    "                INNER JOIN [Sales].[SalesOrderHeader] AS SOH \\\n",
    "                ON SO.SalesOrderID = SOH.SalesOrderID \\\n",
    "                INNER JOIN [Production].[Product] AS PP \\\n",
    "                ON SO.[ProductID] = PP.ProductID \\\n",
    "                INNER JOIN  [Production].[ProductSubcategory] AS PSC \\\n",
    "                ON PP.[ProductSubcategoryID] = PSC.[ProductSubcategoryID] \\\n",
    "                INNER JOIN [Production].[ProductCategory] AS PC \\\n",
    "                ON PSC.[ProductCategoryID] = PC.[ProductCategoryID] \\\n",
    "                INNER JOIN [Sales].[SalesTerritory] AS ST \\\n",
    "                ON ST.TerritoryID =SOH.TerritoryID \\\n",
    "                WHERE OnlineOrderFlag = '0' \"\"\"\n",
    "\n",
    "df = pd.read_sql(sql_for_df1 , conn)\n",
    "\n",
    "\n",
    "conn.close()\n",
    "df.head()"
   ]
  },
  {
   "cell_type": "code",
   "execution_count": 3,
   "id": "c0d3d921",
   "metadata": {},
   "outputs": [
    {
     "data": {
      "text/html": [
       "<div>\n",
       "<style scoped>\n",
       "    .dataframe tbody tr th:only-of-type {\n",
       "        vertical-align: middle;\n",
       "    }\n",
       "\n",
       "    .dataframe tbody tr th {\n",
       "        vertical-align: top;\n",
       "    }\n",
       "\n",
       "    .dataframe thead th {\n",
       "        text-align: right;\n",
       "    }\n",
       "</style>\n",
       "<table border=\"1\" class=\"dataframe\">\n",
       "  <thead>\n",
       "    <tr style=\"text-align: right;\">\n",
       "      <th></th>\n",
       "      <th>OrderDate</th>\n",
       "      <th>Sales_Channel</th>\n",
       "      <th>Total_Sales</th>\n",
       "      <th>Region</th>\n",
       "    </tr>\n",
       "  </thead>\n",
       "  <tbody>\n",
       "    <tr>\n",
       "      <th>0</th>\n",
       "      <td>2011-05-31</td>\n",
       "      <td>Reseller</td>\n",
       "      <td>2024.994</td>\n",
       "      <td>Southeast</td>\n",
       "    </tr>\n",
       "    <tr>\n",
       "      <th>1</th>\n",
       "      <td>2011-05-31</td>\n",
       "      <td>Reseller</td>\n",
       "      <td>6074.982</td>\n",
       "      <td>Southeast</td>\n",
       "    </tr>\n",
       "    <tr>\n",
       "      <th>2</th>\n",
       "      <td>2011-05-31</td>\n",
       "      <td>Reseller</td>\n",
       "      <td>2024.994</td>\n",
       "      <td>Southeast</td>\n",
       "    </tr>\n",
       "    <tr>\n",
       "      <th>3</th>\n",
       "      <td>2011-05-31</td>\n",
       "      <td>Reseller</td>\n",
       "      <td>2039.994</td>\n",
       "      <td>Southeast</td>\n",
       "    </tr>\n",
       "    <tr>\n",
       "      <th>4</th>\n",
       "      <td>2011-05-31</td>\n",
       "      <td>Reseller</td>\n",
       "      <td>2039.994</td>\n",
       "      <td>Southeast</td>\n",
       "    </tr>\n",
       "    <tr>\n",
       "      <th>...</th>\n",
       "      <td>...</td>\n",
       "      <td>...</td>\n",
       "      <td>...</td>\n",
       "      <td>...</td>\n",
       "    </tr>\n",
       "    <tr>\n",
       "      <th>60914</th>\n",
       "      <td>2014-05-01</td>\n",
       "      <td>Reseller</td>\n",
       "      <td>316.860</td>\n",
       "      <td>Southwest</td>\n",
       "    </tr>\n",
       "    <tr>\n",
       "      <th>60915</th>\n",
       "      <td>2014-05-01</td>\n",
       "      <td>Reseller</td>\n",
       "      <td>809.760</td>\n",
       "      <td>Southwest</td>\n",
       "    </tr>\n",
       "    <tr>\n",
       "      <th>60916</th>\n",
       "      <td>2014-05-01</td>\n",
       "      <td>Reseller</td>\n",
       "      <td>3274.800</td>\n",
       "      <td>Southwest</td>\n",
       "    </tr>\n",
       "    <tr>\n",
       "      <th>60917</th>\n",
       "      <td>2014-05-01</td>\n",
       "      <td>Reseller</td>\n",
       "      <td>97.182</td>\n",
       "      <td>Southwest</td>\n",
       "    </tr>\n",
       "    <tr>\n",
       "      <th>60918</th>\n",
       "      <td>2014-05-01</td>\n",
       "      <td>Reseller</td>\n",
       "      <td>338.994</td>\n",
       "      <td>Southwest</td>\n",
       "    </tr>\n",
       "  </tbody>\n",
       "</table>\n",
       "<p>60919 rows × 4 columns</p>\n",
       "</div>"
      ],
      "text/plain": [
       "       OrderDate Sales_Channel  Total_Sales     Region\n",
       "0     2011-05-31      Reseller     2024.994  Southeast\n",
       "1     2011-05-31      Reseller     6074.982  Southeast\n",
       "2     2011-05-31      Reseller     2024.994  Southeast\n",
       "3     2011-05-31      Reseller     2039.994  Southeast\n",
       "4     2011-05-31      Reseller     2039.994  Southeast\n",
       "...          ...           ...          ...        ...\n",
       "60914 2014-05-01      Reseller      316.860  Southwest\n",
       "60915 2014-05-01      Reseller      809.760  Southwest\n",
       "60916 2014-05-01      Reseller     3274.800  Southwest\n",
       "60917 2014-05-01      Reseller       97.182  Southwest\n",
       "60918 2014-05-01      Reseller      338.994  Southwest\n",
       "\n",
       "[60919 rows x 4 columns]"
      ]
     },
     "execution_count": 3,
     "metadata": {},
     "output_type": "execute_result"
    }
   ],
   "source": [
    "df = pd.DataFrame(df)\n",
    "df.reset_index(drop=True, inplace=True)\n",
    "df\n"
   ]
  },
  {
   "cell_type": "code",
   "execution_count": 4,
   "id": "b4c63837",
   "metadata": {},
   "outputs": [
    {
     "data": {
      "text/plain": [
       "Timestamp('2014-05-01 00:00:00')"
      ]
     },
     "execution_count": 4,
     "metadata": {},
     "output_type": "execute_result"
    }
   ],
   "source": [
    "df.OrderDate.max() "
   ]
  },
  {
   "cell_type": "code",
   "execution_count": 5,
   "id": "c6b5ae21",
   "metadata": {},
   "outputs": [
    {
     "data": {
      "text/plain": [
       "Timestamp('2011-05-31 00:00:00')"
      ]
     },
     "execution_count": 5,
     "metadata": {},
     "output_type": "execute_result"
    }
   ],
   "source": [
    "df.OrderDate.min()"
   ]
  },
  {
   "cell_type": "code",
   "execution_count": 82,
   "id": "81237bd7",
   "metadata": {},
   "outputs": [],
   "source": [
    "#df['OrderDate']=pd.to_datetime(df['OrderDate'])"
   ]
  },
  {
   "cell_type": "code",
   "execution_count": 6,
   "id": "800d88a1",
   "metadata": {},
   "outputs": [
    {
     "data": {
      "text/html": [
       "<div>\n",
       "<style scoped>\n",
       "    .dataframe tbody tr th:only-of-type {\n",
       "        vertical-align: middle;\n",
       "    }\n",
       "\n",
       "    .dataframe tbody tr th {\n",
       "        vertical-align: top;\n",
       "    }\n",
       "\n",
       "    .dataframe thead th {\n",
       "        text-align: right;\n",
       "    }\n",
       "</style>\n",
       "<table border=\"1\" class=\"dataframe\">\n",
       "  <thead>\n",
       "    <tr style=\"text-align: right;\">\n",
       "      <th></th>\n",
       "      <th>OrderDate</th>\n",
       "      <th>Sales_Channel</th>\n",
       "      <th>Total_Sales</th>\n",
       "      <th>Region</th>\n",
       "    </tr>\n",
       "  </thead>\n",
       "  <tbody>\n",
       "    <tr>\n",
       "      <th>30255</th>\n",
       "      <td>2013-05-30</td>\n",
       "      <td>Reseller</td>\n",
       "      <td>2860.8840</td>\n",
       "      <td>Australia</td>\n",
       "    </tr>\n",
       "    <tr>\n",
       "      <th>30466</th>\n",
       "      <td>2013-05-30</td>\n",
       "      <td>Reseller</td>\n",
       "      <td>953.6280</td>\n",
       "      <td>Australia</td>\n",
       "    </tr>\n",
       "    <tr>\n",
       "      <th>30467</th>\n",
       "      <td>2013-05-30</td>\n",
       "      <td>Reseller</td>\n",
       "      <td>334.0575</td>\n",
       "      <td>Australia</td>\n",
       "    </tr>\n",
       "    <tr>\n",
       "      <th>30468</th>\n",
       "      <td>2013-05-30</td>\n",
       "      <td>Reseller</td>\n",
       "      <td>1907.2560</td>\n",
       "      <td>Australia</td>\n",
       "    </tr>\n",
       "    <tr>\n",
       "      <th>30469</th>\n",
       "      <td>2013-05-30</td>\n",
       "      <td>Reseller</td>\n",
       "      <td>54.8940</td>\n",
       "      <td>Australia</td>\n",
       "    </tr>\n",
       "    <tr>\n",
       "      <th>...</th>\n",
       "      <td>...</td>\n",
       "      <td>...</td>\n",
       "      <td>...</td>\n",
       "      <td>...</td>\n",
       "    </tr>\n",
       "    <tr>\n",
       "      <th>60756</th>\n",
       "      <td>2014-05-01</td>\n",
       "      <td>Reseller</td>\n",
       "      <td>16.1820</td>\n",
       "      <td>Australia</td>\n",
       "    </tr>\n",
       "    <tr>\n",
       "      <th>60757</th>\n",
       "      <td>2014-05-01</td>\n",
       "      <td>Reseller</td>\n",
       "      <td>164.9700</td>\n",
       "      <td>Australia</td>\n",
       "    </tr>\n",
       "    <tr>\n",
       "      <th>60758</th>\n",
       "      <td>2014-05-01</td>\n",
       "      <td>Reseller</td>\n",
       "      <td>14.3100</td>\n",
       "      <td>Australia</td>\n",
       "    </tr>\n",
       "    <tr>\n",
       "      <th>60759</th>\n",
       "      <td>2014-05-01</td>\n",
       "      <td>Reseller</td>\n",
       "      <td>62.9820</td>\n",
       "      <td>Australia</td>\n",
       "    </tr>\n",
       "    <tr>\n",
       "      <th>60760</th>\n",
       "      <td>2014-05-01</td>\n",
       "      <td>Reseller</td>\n",
       "      <td>125.9640</td>\n",
       "      <td>Australia</td>\n",
       "    </tr>\n",
       "  </tbody>\n",
       "</table>\n",
       "<p>1713 rows × 4 columns</p>\n",
       "</div>"
      ],
      "text/plain": [
       "       OrderDate Sales_Channel  Total_Sales     Region\n",
       "30255 2013-05-30      Reseller    2860.8840  Australia\n",
       "30466 2013-05-30      Reseller     953.6280  Australia\n",
       "30467 2013-05-30      Reseller     334.0575  Australia\n",
       "30468 2013-05-30      Reseller    1907.2560  Australia\n",
       "30469 2013-05-30      Reseller      54.8940  Australia\n",
       "...          ...           ...          ...        ...\n",
       "60756 2014-05-01      Reseller      16.1820  Australia\n",
       "60757 2014-05-01      Reseller     164.9700  Australia\n",
       "60758 2014-05-01      Reseller      14.3100  Australia\n",
       "60759 2014-05-01      Reseller      62.9820  Australia\n",
       "60760 2014-05-01      Reseller     125.9640  Australia\n",
       "\n",
       "[1713 rows x 4 columns]"
      ]
     },
     "execution_count": 6,
     "metadata": {},
     "output_type": "execute_result"
    }
   ],
   "source": [
    "online_channel= df.loc[df['Region'] == 'Australia',:]\n",
    "online_channel"
   ]
  },
  {
   "cell_type": "markdown",
   "id": "a8b3d9d0",
   "metadata": {},
   "source": [
    "### Data Preprocessing"
   ]
  },
  {
   "cell_type": "code",
   "execution_count": 7,
   "id": "da8db6b7",
   "metadata": {},
   "outputs": [
    {
     "data": {
      "text/plain": [
       "OrderDate      0\n",
       "Total_Sales    0\n",
       "dtype: int64"
      ]
     },
     "execution_count": 7,
     "metadata": {},
     "output_type": "execute_result"
    }
   ],
   "source": [
    "cols = ['Sales_Channel','Region']\n",
    "online_channel.drop(cols, axis=1, inplace=True)\n",
    "online_channel = online_channel.sort_values('OrderDate')\n",
    "online_channel.isnull().sum()\n"
   ]
  },
  {
   "cell_type": "code",
   "execution_count": 8,
   "id": "b848d0d4",
   "metadata": {},
   "outputs": [
    {
     "data": {
      "text/html": [
       "<div>\n",
       "<style scoped>\n",
       "    .dataframe tbody tr th:only-of-type {\n",
       "        vertical-align: middle;\n",
       "    }\n",
       "\n",
       "    .dataframe tbody tr th {\n",
       "        vertical-align: top;\n",
       "    }\n",
       "\n",
       "    .dataframe thead th {\n",
       "        text-align: right;\n",
       "    }\n",
       "</style>\n",
       "<table border=\"1\" class=\"dataframe\">\n",
       "  <thead>\n",
       "    <tr style=\"text-align: right;\">\n",
       "      <th></th>\n",
       "      <th>OrderDate</th>\n",
       "      <th>Total_Sales</th>\n",
       "    </tr>\n",
       "  </thead>\n",
       "  <tbody>\n",
       "    <tr>\n",
       "      <th>0</th>\n",
       "      <td>2013-05-30</td>\n",
       "      <td>54329.4735</td>\n",
       "    </tr>\n",
       "    <tr>\n",
       "      <th>1</th>\n",
       "      <td>2013-06-30</td>\n",
       "      <td>145996.4853</td>\n",
       "    </tr>\n",
       "    <tr>\n",
       "      <th>2</th>\n",
       "      <td>2013-07-31</td>\n",
       "      <td>278684.9933</td>\n",
       "    </tr>\n",
       "    <tr>\n",
       "      <th>3</th>\n",
       "      <td>2013-08-30</td>\n",
       "      <td>55341.4620</td>\n",
       "    </tr>\n",
       "    <tr>\n",
       "      <th>4</th>\n",
       "      <td>2013-09-30</td>\n",
       "      <td>124225.1040</td>\n",
       "    </tr>\n",
       "    <tr>\n",
       "      <th>5</th>\n",
       "      <td>2013-10-30</td>\n",
       "      <td>217049.7682</td>\n",
       "    </tr>\n",
       "    <tr>\n",
       "      <th>6</th>\n",
       "      <td>2013-11-30</td>\n",
       "      <td>63379.6260</td>\n",
       "    </tr>\n",
       "    <tr>\n",
       "      <th>7</th>\n",
       "      <td>2013-12-31</td>\n",
       "      <td>76501.6500</td>\n",
       "    </tr>\n",
       "    <tr>\n",
       "      <th>8</th>\n",
       "      <td>2014-01-29</td>\n",
       "      <td>200640.4302</td>\n",
       "    </tr>\n",
       "    <tr>\n",
       "      <th>9</th>\n",
       "      <td>2014-03-01</td>\n",
       "      <td>58814.5140</td>\n",
       "    </tr>\n",
       "    <tr>\n",
       "      <th>10</th>\n",
       "      <td>2014-03-31</td>\n",
       "      <td>116068.3740</td>\n",
       "    </tr>\n",
       "    <tr>\n",
       "      <th>11</th>\n",
       "      <td>2014-05-01</td>\n",
       "      <td>231837.5414</td>\n",
       "    </tr>\n",
       "  </tbody>\n",
       "</table>\n",
       "</div>"
      ],
      "text/plain": [
       "    OrderDate  Total_Sales\n",
       "0  2013-05-30   54329.4735\n",
       "1  2013-06-30  145996.4853\n",
       "2  2013-07-31  278684.9933\n",
       "3  2013-08-30   55341.4620\n",
       "4  2013-09-30  124225.1040\n",
       "5  2013-10-30  217049.7682\n",
       "6  2013-11-30   63379.6260\n",
       "7  2013-12-31   76501.6500\n",
       "8  2014-01-29  200640.4302\n",
       "9  2014-03-01   58814.5140\n",
       "10 2014-03-31  116068.3740\n",
       "11 2014-05-01  231837.5414"
      ]
     },
     "execution_count": 8,
     "metadata": {},
     "output_type": "execute_result"
    }
   ],
   "source": [
    "online_channel = online_channel.groupby('OrderDate')['Total_Sales'].sum().reset_index()\n",
    "online_channel"
   ]
  },
  {
   "cell_type": "markdown",
   "id": "a6cb1d15",
   "metadata": {},
   "source": [
    "### Indexing with Time Series Data"
   ]
  },
  {
   "cell_type": "code",
   "execution_count": 9,
   "id": "4b6aa687",
   "metadata": {},
   "outputs": [
    {
     "data": {
      "text/plain": [
       "DatetimeIndex(['2013-05-30', '2013-06-30', '2013-07-31', '2013-08-30',\n",
       "               '2013-09-30', '2013-10-30', '2013-11-30', '2013-12-31',\n",
       "               '2014-01-29', '2014-03-01', '2014-03-31', '2014-05-01'],\n",
       "              dtype='datetime64[ns]', name='OrderDate', freq=None)"
      ]
     },
     "execution_count": 9,
     "metadata": {},
     "output_type": "execute_result"
    }
   ],
   "source": [
    "online_channel = online_channel.set_index('OrderDate')\n",
    "online_channel.index"
   ]
  },
  {
   "cell_type": "markdown",
   "id": "51ecec67",
   "metadata": {},
   "source": [
    "current datetime data can be tricky to work with, therefore, we will use the averages daily sales value for that month instead, and we are using the start of each month as the timestamp."
   ]
  },
  {
   "cell_type": "code",
   "execution_count": 10,
   "id": "01b6d730",
   "metadata": {},
   "outputs": [],
   "source": [
    "y = online_channel['Total_Sales'].resample('MS').mean()\n",
    "y = y.fillna(y.bfill())"
   ]
  },
  {
   "cell_type": "code",
   "execution_count": 11,
   "id": "9ca889a8",
   "metadata": {},
   "outputs": [
    {
     "data": {
      "text/plain": [
       "OrderDate\n",
       "2014-01-01    200640.4302\n",
       "2014-02-01     87441.4440\n",
       "2014-03-01     87441.4440\n",
       "2014-04-01    231837.5414\n",
       "2014-05-01    231837.5414\n",
       "Freq: MS, Name: Total_Sales, dtype: float64"
      ]
     },
     "execution_count": 11,
     "metadata": {},
     "output_type": "execute_result"
    }
   ],
   "source": [
    "y['2014':]"
   ]
  },
  {
   "cell_type": "code",
   "execution_count": 12,
   "id": "2b950ff1",
   "metadata": {},
   "outputs": [
    {
     "data": {
      "image/png": "[encoded data removed]",
      "text/plain": [
       "<Figure size 1080x432 with 1 Axes>"
      ]
     },
     "metadata": {},
     "output_type": "display_data"
    }
   ],
   "source": [
    "#Visualizing Country Sales Time Series Data\n",
    "y.plot(figsize=(15, 6))\n",
    "plt.show()"
   ]
  },
  {
   "cell_type": "markdown",
   "id": "a7eef6d4",
   "metadata": {},
   "source": [
    "Some distinguishable patterns appear when we plot the data. The time-series has seasonality pattern, such as sales are always low at the beginning of the year and high at the end of the year. There is always an upward trend within any single year with a couple of low months in the mid of the year.\n",
    "We can also visualize our data using a method called time-series decomposition that allows us to decompose our time series into three distinct components: trend, seasonality, and noise."
   ]
  },
  {
   "cell_type": "markdown",
   "id": "46920421",
   "metadata": {},
   "source": [
    "### Time series forecasting with ARIMA\n",
    "We are going to apply one of the most commonly used method for time-series forecasting, known as ARIMA, which stands for Autoregressive Integrated Moving Average.\n",
    "ARIMA models are denoted with the notation ARIMA(p, d, q). These three parameters account for seasonality, trend, and noise in data:"
   ]
  },
  {
   "cell_type": "code",
   "execution_count": 13,
   "id": "c916aa55",
   "metadata": {},
   "outputs": [
    {
     "name": "stdout",
     "output_type": "stream",
     "text": [
      "Examples of parameter combinations for Seasonal ARIMA...\n",
      "SARIMAX: (0, 0, 1) x (0, 0, 1, 12)\n",
      "SARIMAX: (0, 0, 1) x (0, 1, 0, 12)\n",
      "SARIMAX: (0, 1, 0) x (0, 1, 1, 12)\n",
      "SARIMAX: (0, 1, 0) x (1, 0, 0, 12)\n"
     ]
    }
   ],
   "source": [
    "p = d = q = range(0, 2)\n",
    "pdq = list(itertools.product(p, d, q))\n",
    "seasonal_pdq = [(x[0], x[1], x[2], 12) for x in list(itertools.product(p, d, q))]\n",
    "print('Examples of parameter combinations for Seasonal ARIMA...')\n",
    "print('SARIMAX: {} x {}'.format(pdq[1], seasonal_pdq[1]))\n",
    "print('SARIMAX: {} x {}'.format(pdq[1], seasonal_pdq[2]))\n",
    "print('SARIMAX: {} x {}'.format(pdq[2], seasonal_pdq[3]))\n",
    "print('SARIMAX: {} x {}'.format(pdq[2], seasonal_pdq[4]))"
   ]
  },
  {
   "cell_type": "markdown",
   "id": "271e4391",
   "metadata": {},
   "source": [
    "This step is parameter Selection for our furniture’s sales ARIMA Time Series Model. Our goal here is to use a “grid search” to find the optimal set of parameters that yields the best performance for our model."
   ]
  },
  {
   "cell_type": "code",
   "execution_count": 14,
   "id": "3dd580df",
   "metadata": {},
   "outputs": [
    {
     "name": "stdout",
     "output_type": "stream",
     "text": [
      "ARIMA(0, 0, 0)x(0, 0, 0, 12)12 - AIC:324.8049215540754\n",
      "ARIMA(0, 0, 0)x(0, 0, 1, 12)12 - AIC:4.0\n",
      "ARIMA(0, 0, 0)x(0, 1, 0, 12)12 - AIC:2.0\n",
      "ARIMA(0, 0, 0)x(1, 0, 0, 12)12 - AIC:28.324844490370715\n",
      "ARIMA(0, 0, 0)x(1, 0, 1, 12)12 - AIC:6.0\n",
      "ARIMA(0, 0, 1)x(0, 0, 0, 12)12 - AIC:293.41450237221517\n",
      "ARIMA(0, 0, 1)x(0, 0, 1, 12)12 - AIC:6.0\n",
      "ARIMA(0, 0, 1)x(1, 0, 0, 12)12 - AIC:31.811772235201975\n",
      "ARIMA(0, 0, 1)x(1, 0, 1, 12)12 - AIC:8.0\n",
      "ARIMA(0, 1, 0)x(0, 0, 0, 12)12 - AIC:290.25561098788546\n",
      "ARIMA(0, 1, 0)x(0, 0, 1, 12)12 - AIC:4.0\n",
      "ARIMA(0, 1, 0)x(0, 1, 0, 12)12 - AIC:2.0\n",
      "ARIMA(0, 1, 0)x(0, 1, 1, 12)12 - AIC:4.0\n",
      "ARIMA(0, 1, 0)x(1, 0, 0, 12)12 - AIC:4.0\n",
      "ARIMA(0, 1, 0)x(1, 0, 1, 12)12 - AIC:6.0\n",
      "ARIMA(0, 1, 0)x(1, 1, 0, 12)12 - AIC:4.0\n",
      "ARIMA(0, 1, 0)x(1, 1, 1, 12)12 - AIC:6.0\n",
      "ARIMA(0, 1, 1)x(0, 0, 0, 12)12 - AIC:258.02639016754176\n",
      "ARIMA(0, 1, 1)x(0, 0, 1, 12)12 - AIC:6.0\n",
      "ARIMA(0, 1, 1)x(0, 1, 0, 12)12 - AIC:4.0\n",
      "ARIMA(0, 1, 1)x(0, 1, 1, 12)12 - AIC:6.0\n",
      "ARIMA(0, 1, 1)x(1, 0, 0, 12)12 - AIC:6.0\n",
      "ARIMA(0, 1, 1)x(1, 0, 1, 12)12 - AIC:8.0\n",
      "ARIMA(0, 1, 1)x(1, 1, 0, 12)12 - AIC:6.0\n",
      "ARIMA(0, 1, 1)x(1, 1, 1, 12)12 - AIC:8.0\n",
      "ARIMA(1, 0, 0)x(0, 0, 0, 12)12 - AIC:317.1467251443604\n",
      "ARIMA(1, 0, 0)x(0, 0, 1, 12)12 - AIC:6.0\n",
      "ARIMA(1, 0, 0)x(1, 0, 0, 12)12 - AIC:6.0\n",
      "ARIMA(1, 0, 0)x(1, 0, 1, 12)12 - AIC:8.0\n",
      "ARIMA(1, 0, 1)x(0, 0, 0, 12)12 - AIC:287.28230349378043\n",
      "ARIMA(1, 0, 1)x(0, 0, 1, 12)12 - AIC:8.0\n",
      "ARIMA(1, 0, 1)x(1, 0, 0, 12)12 - AIC:8.0\n",
      "ARIMA(1, 0, 1)x(1, 0, 1, 12)12 - AIC:10.0\n",
      "ARIMA(1, 1, 0)x(0, 0, 0, 12)12 - AIC:290.7487141272877\n",
      "ARIMA(1, 1, 0)x(0, 0, 1, 12)12 - AIC:6.0\n",
      "ARIMA(1, 1, 0)x(0, 1, 0, 12)12 - AIC:4.0\n",
      "ARIMA(1, 1, 0)x(0, 1, 1, 12)12 - AIC:6.0\n",
      "ARIMA(1, 1, 0)x(1, 0, 0, 12)12 - AIC:6.0\n",
      "ARIMA(1, 1, 0)x(1, 0, 1, 12)12 - AIC:8.0\n",
      "ARIMA(1, 1, 0)x(1, 1, 0, 12)12 - AIC:6.0\n",
      "ARIMA(1, 1, 0)x(1, 1, 1, 12)12 - AIC:8.0\n",
      "ARIMA(1, 1, 1)x(0, 0, 0, 12)12 - AIC:262.3876573202224\n",
      "ARIMA(1, 1, 1)x(0, 0, 1, 12)12 - AIC:8.0\n",
      "ARIMA(1, 1, 1)x(0, 1, 0, 12)12 - AIC:6.0\n",
      "ARIMA(1, 1, 1)x(0, 1, 1, 12)12 - AIC:8.0\n",
      "ARIMA(1, 1, 1)x(1, 0, 0, 12)12 - AIC:8.0\n",
      "ARIMA(1, 1, 1)x(1, 0, 1, 12)12 - AIC:10.0\n",
      "ARIMA(1, 1, 1)x(1, 1, 0, 12)12 - AIC:8.0\n",
      "ARIMA(1, 1, 1)x(1, 1, 1, 12)12 - AIC:10.0\n"
     ]
    }
   ],
   "source": [
    "warnings.filterwarnings(\"ignore\")\n",
    "for param in pdq:\n",
    "    for param_seasonal in seasonal_pdq:\n",
    "        try:\n",
    "            mod = sm.tsa.statespace.SARIMAX(y,\n",
    "                                            order=param,\n",
    "                                            seasonal_order=param_seasonal,\n",
    "                                            enforce_stationarity=False,\n",
    "                                            enforce_invertibility=False)\n",
    "\n",
    "            results = mod.fit()\n",
    "\n",
    "            print('ARIMA{}x{}12 - AIC:{}'.format(param, param_seasonal, results.aic))\n",
    "        except:\n",
    "            continue"
   ]
  },
  {
   "cell_type": "markdown",
   "id": "8744aa53",
   "metadata": {},
   "source": [
    " ### Fitting an ARIMA Time Series Model"
   ]
  },
  {
   "cell_type": "code",
   "execution_count": 15,
   "id": "162b89ad",
   "metadata": {},
   "outputs": [
    {
     "name": "stdout",
     "output_type": "stream",
     "text": [
      "==============================================================================\n",
      "                 coef    std err          z      P>|z|      [0.025      0.975]\n",
      "------------------------------------------------------------------------------\n",
      "ar.L1               0         -0        nan        nan           0           0\n",
      "ma.L1               0         -0        nan        nan           0           0\n",
      "ar.S.L12            0         -0        nan        nan           0           0\n",
      "ma.S.L12            0         -0        nan        nan           0           0\n",
      "sigma2         1.0000         -0       -inf      0.000       1.000       1.000\n",
      "==============================================================================\n"
     ]
    }
   ],
   "source": [
    "mod = sm.tsa.statespace.SARIMAX(y,\n",
    "                                order=(1, 1, 1),\n",
    "                                seasonal_order=(1, 1, 1, 12),\n",
    "                                enforce_stationarity=False,\n",
    "                                enforce_invertibility=False)\n",
    "\n",
    "results = mod.fit()\n",
    "\n",
    "print(results.summary().tables[1])"
   ]
  },
  {
   "cell_type": "markdown",
   "id": "4e1ab620",
   "metadata": {},
   "source": [
    "### Validating forecasts"
   ]
  },
  {
   "cell_type": "code",
   "execution_count": 16,
   "id": "564835ce",
   "metadata": {},
   "outputs": [],
   "source": [
    "pred = results.get_prediction(start=pd.to_datetime('2013-06-01'), end=pd.to_datetime('2014-05-31 05:40:00'),dynamic=True, full_results=True)\n",
    "pred_ci = pred.conf_int()\n",
    "\n"
   ]
  },
  {
   "cell_type": "code",
   "execution_count": 17,
   "id": "8f596801",
   "metadata": {},
   "outputs": [
    {
     "data": {
      "image/png": "[encoded data removed]",
      "text/plain": [
       "<Figure size 432x288 with 1 Axes>"
      ]
     },
     "metadata": {},
     "output_type": "display_data"
    }
   ],
   "source": [
    "ax = y['2011':].plot(label='observed')\n",
    "pred.predicted_mean.plot(ax=ax, label='One-step ahead Forecast', alpha=.7)\n",
    "\n",
    "ax.fill_between(pred_ci.index,\n",
    "                pred_ci.iloc[:, 0],\n",
    "                pred_ci.iloc[:, 1], color='k', alpha=.2)\n",
    "\n",
    "ax.set_xlabel('OrderDate')\n",
    "ax.set_ylabel('TOtal Sales')\n",
    "plt.legend()\n",
    "\n",
    "plt.show()"
   ]
  },
  {
   "cell_type": "code",
   "execution_count": 18,
   "id": "2cf3afaf",
   "metadata": {},
   "outputs": [
    {
     "name": "stdout",
     "output_type": "stream",
     "text": [
      "The Mean Squared Error of our forecasts is 15014246543.22\n"
     ]
    }
   ],
   "source": [
    "y_forecasted = pred.predicted_mean\n",
    "y_truth = y['2014-01-01':]\n",
    "mse = ((y_forecasted - y_truth) ** 2).mean()\n",
    "print('The Mean Squared Error of our forecasts is {}'.format(round(mse, 2)))\n"
   ]
  },
  {
   "cell_type": "code",
   "execution_count": 19,
   "id": "38153180",
   "metadata": {},
   "outputs": [
    {
     "name": "stdout",
     "output_type": "stream",
     "text": [
      "The Root Mean Squared Error of our forecasts is 122532.63\n"
     ]
    }
   ],
   "source": [
    "print('The Root Mean Squared Error of our forecasts is {}'.format(round(np.sqrt(mse), 2)))"
   ]
  },
  {
   "cell_type": "code",
   "execution_count": 20,
   "id": "3afc9779",
   "metadata": {
    "scrolled": false
   },
   "outputs": [
    {
     "data": {
      "image/png": "[encoded data removed]",
      "text/plain": [
       "<Figure size 1008x504 with 1 Axes>"
      ]
     },
     "metadata": {},
     "output_type": "display_data"
    }
   ],
   "source": [
    "pred_uc = results.get_forecast(steps=100)\n",
    "pred_ci = pred_uc.conf_int()\n",
    "ax = y.plot(label='observed', figsize=(14, 7))\n",
    "pred_uc.predicted_mean.plot(ax=ax, label='Reseller Forecast for Australia Region')\n",
    "ax.fill_between(pred_ci.index,\n",
    "                pred_ci.iloc[:, 0],\n",
    "                pred_ci.iloc[:, 1], color='k', alpha=.25)\n",
    "ax.set_xlabel('OrderDate')\n",
    "ax.set_ylabel('TOtal Sales')\n",
    "plt.legend()\n",
    "plt.show()"
   ]
  },
  {
   "cell_type": "code",
   "execution_count": null,
   "id": "51b4e070",
   "metadata": {},
   "outputs": [],
   "source": []
  }
 ],
 "metadata": {
  "kernelspec": {
   "display_name": "Python 3",
   "language": "python",
   "name": "python3"
  },
  "language_info": {
   "codemirror_mode": {
    "name": "ipython",
    "version": 3
   },
   "file_extension": ".py",
   "mimetype": "text/x-python",
   "name": "python",
   "nbconvert_exporter": "python",
   "pygments_lexer": "ipython3",
   "version": "3.8.8"
  }
 },
 "nbformat": 4,
 "nbformat_minor": 5
}
