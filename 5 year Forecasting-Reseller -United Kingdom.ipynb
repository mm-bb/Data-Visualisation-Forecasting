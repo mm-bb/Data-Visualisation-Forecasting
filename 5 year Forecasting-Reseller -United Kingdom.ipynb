{
 "cells": [
  {
   "cell_type": "markdown",
   "id": "a36af659",
   "metadata": {},
   "source": [
    "#### 5 year Forecasting With ResellerSales\n"
   ]
  },
  {
   "cell_type": "code",
   "execution_count": 1,
   "id": "98045ad7",
   "metadata": {},
   "outputs": [],
   "source": [
    "import warnings\n",
    "import itertools\n",
    "import numpy as np\n",
    "import matplotlib.pyplot as plt\n",
    "warnings.filterwarnings(\"ignore\")\n",
    "plt.style.use('fivethirtyeight')\n",
    "import pandas as pd\n",
    "import statsmodels.api as sm\n",
    "import matplotlib\n",
    "matplotlib.rcParams['axes.labelsize'] = 14\n",
    "matplotlib.rcParams['xtick.labelsize'] = 12\n",
    "matplotlib.rcParams['ytick.labelsize'] = 12\n",
    "matplotlib.rcParams['text.color'] = 'k'"
   ]
  },
  {
   "cell_type": "code",
   "execution_count": 2,
   "id": "36bdae9a",
   "metadata": {},
   "outputs": [
    {
     "data": {
      "text/html": [
       "<div>\n",
       "<style scoped>\n",
       "    .dataframe tbody tr th:only-of-type {\n",
       "        vertical-align: middle;\n",
       "    }\n",
       "\n",
       "    .dataframe tbody tr th {\n",
       "        vertical-align: top;\n",
       "    }\n",
       "\n",
       "    .dataframe thead th {\n",
       "        text-align: right;\n",
       "    }\n",
       "</style>\n",
       "<table border=\"1\" class=\"dataframe\">\n",
       "  <thead>\n",
       "    <tr style=\"text-align: right;\">\n",
       "      <th></th>\n",
       "      <th>OrderDate</th>\n",
       "      <th>Sales_Channel</th>\n",
       "      <th>Total_Sales</th>\n",
       "      <th>Region</th>\n",
       "    </tr>\n",
       "  </thead>\n",
       "  <tbody>\n",
       "    <tr>\n",
       "      <th>0</th>\n",
       "      <td>2011-05-31</td>\n",
       "      <td>Reseller</td>\n",
       "      <td>2024.994</td>\n",
       "      <td>Southeast</td>\n",
       "    </tr>\n",
       "    <tr>\n",
       "      <th>1</th>\n",
       "      <td>2011-05-31</td>\n",
       "      <td>Reseller</td>\n",
       "      <td>6074.982</td>\n",
       "      <td>Southeast</td>\n",
       "    </tr>\n",
       "    <tr>\n",
       "      <th>2</th>\n",
       "      <td>2011-05-31</td>\n",
       "      <td>Reseller</td>\n",
       "      <td>2024.994</td>\n",
       "      <td>Southeast</td>\n",
       "    </tr>\n",
       "    <tr>\n",
       "      <th>3</th>\n",
       "      <td>2011-05-31</td>\n",
       "      <td>Reseller</td>\n",
       "      <td>2039.994</td>\n",
       "      <td>Southeast</td>\n",
       "    </tr>\n",
       "    <tr>\n",
       "      <th>4</th>\n",
       "      <td>2011-05-31</td>\n",
       "      <td>Reseller</td>\n",
       "      <td>2039.994</td>\n",
       "      <td>Southeast</td>\n",
       "    </tr>\n",
       "  </tbody>\n",
       "</table>\n",
       "</div>"
      ],
      "text/plain": [
       "   OrderDate Sales_Channel  Total_Sales     Region\n",
       "0 2011-05-31      Reseller     2024.994  Southeast\n",
       "1 2011-05-31      Reseller     6074.982  Southeast\n",
       "2 2011-05-31      Reseller     2024.994  Southeast\n",
       "3 2011-05-31      Reseller     2039.994  Southeast\n",
       "4 2011-05-31      Reseller     2039.994  Southeast"
      ]
     },
     "execution_count": 2,
     "metadata": {},
     "output_type": "execute_result"
    }
   ],
   "source": [
    "import pyodbc \n",
    "import pandas as pd\n",
    "conn = pyodbc.connect('Driver={SQL Server};'\n",
    "                      'Server=DESKTOP-4P75PCB;'\n",
    "                      'Database=AdventureWorks2012;' \n",
    "                      'Trusted_Connection=yes;')\n",
    "\n",
    "\n",
    "sql_for_df1 = \"\"\"SELECT SOH.[OrderDate],CASE WHEN SOH.[OnlineOrderFlag] = 1 THEN 'Online' ELSE 'Reseller' END AS Sales_Channel,\n",
    "                SO.[OrderQty]*SO.[UnitPrice] AS Total_Sales,\n",
    "                ST.Name AS Region \n",
    "                FROM [Sales].[SalesOrderDetail] AS SO \\\n",
    "                INNER JOIN [Sales].[SalesOrderHeader] AS SOH \\\n",
    "                ON SO.SalesOrderID = SOH.SalesOrderID \\\n",
    "                INNER JOIN [Production].[Product] AS PP \\\n",
    "                ON SO.[ProductID] = PP.ProductID \\\n",
    "                INNER JOIN  [Production].[ProductSubcategory] AS PSC \\\n",
    "                ON PP.[ProductSubcategoryID] = PSC.[ProductSubcategoryID] \\\n",
    "                INNER JOIN [Production].[ProductCategory] AS PC \\\n",
    "                ON PSC.[ProductCategoryID] = PC.[ProductCategoryID] \\\n",
    "                INNER JOIN [Sales].[SalesTerritory] AS ST \\\n",
    "                ON ST.TerritoryID =SOH.TerritoryID \\\n",
    "                WHERE OnlineOrderFlag = '0' \"\"\"\n",
    "\n",
    "df = pd.read_sql(sql_for_df1 , conn)\n",
    "\n",
    "\n",
    "conn.close()\n",
    "df.head()"
   ]
  },
  {
   "cell_type": "code",
   "execution_count": 3,
   "id": "c0d3d921",
   "metadata": {},
   "outputs": [
    {
     "data": {
      "text/html": [
       "<div>\n",
       "<style scoped>\n",
       "    .dataframe tbody tr th:only-of-type {\n",
       "        vertical-align: middle;\n",
       "    }\n",
       "\n",
       "    .dataframe tbody tr th {\n",
       "        vertical-align: top;\n",
       "    }\n",
       "\n",
       "    .dataframe thead th {\n",
       "        text-align: right;\n",
       "    }\n",
       "</style>\n",
       "<table border=\"1\" class=\"dataframe\">\n",
       "  <thead>\n",
       "    <tr style=\"text-align: right;\">\n",
       "      <th></th>\n",
       "      <th>OrderDate</th>\n",
       "      <th>Sales_Channel</th>\n",
       "      <th>Total_Sales</th>\n",
       "      <th>Region</th>\n",
       "    </tr>\n",
       "  </thead>\n",
       "  <tbody>\n",
       "    <tr>\n",
       "      <th>0</th>\n",
       "      <td>2011-05-31</td>\n",
       "      <td>Reseller</td>\n",
       "      <td>2024.994</td>\n",
       "      <td>Southeast</td>\n",
       "    </tr>\n",
       "    <tr>\n",
       "      <th>1</th>\n",
       "      <td>2011-05-31</td>\n",
       "      <td>Reseller</td>\n",
       "      <td>6074.982</td>\n",
       "      <td>Southeast</td>\n",
       "    </tr>\n",
       "    <tr>\n",
       "      <th>2</th>\n",
       "      <td>2011-05-31</td>\n",
       "      <td>Reseller</td>\n",
       "      <td>2024.994</td>\n",
       "      <td>Southeast</td>\n",
       "    </tr>\n",
       "    <tr>\n",
       "      <th>3</th>\n",
       "      <td>2011-05-31</td>\n",
       "      <td>Reseller</td>\n",
       "      <td>2039.994</td>\n",
       "      <td>Southeast</td>\n",
       "    </tr>\n",
       "    <tr>\n",
       "      <th>4</th>\n",
       "      <td>2011-05-31</td>\n",
       "      <td>Reseller</td>\n",
       "      <td>2039.994</td>\n",
       "      <td>Southeast</td>\n",
       "    </tr>\n",
       "    <tr>\n",
       "      <th>...</th>\n",
       "      <td>...</td>\n",
       "      <td>...</td>\n",
       "      <td>...</td>\n",
       "      <td>...</td>\n",
       "    </tr>\n",
       "    <tr>\n",
       "      <th>60914</th>\n",
       "      <td>2014-05-01</td>\n",
       "      <td>Reseller</td>\n",
       "      <td>316.860</td>\n",
       "      <td>Southwest</td>\n",
       "    </tr>\n",
       "    <tr>\n",
       "      <th>60915</th>\n",
       "      <td>2014-05-01</td>\n",
       "      <td>Reseller</td>\n",
       "      <td>809.760</td>\n",
       "      <td>Southwest</td>\n",
       "    </tr>\n",
       "    <tr>\n",
       "      <th>60916</th>\n",
       "      <td>2014-05-01</td>\n",
       "      <td>Reseller</td>\n",
       "      <td>3274.800</td>\n",
       "      <td>Southwest</td>\n",
       "    </tr>\n",
       "    <tr>\n",
       "      <th>60917</th>\n",
       "      <td>2014-05-01</td>\n",
       "      <td>Reseller</td>\n",
       "      <td>97.182</td>\n",
       "      <td>Southwest</td>\n",
       "    </tr>\n",
       "    <tr>\n",
       "      <th>60918</th>\n",
       "      <td>2014-05-01</td>\n",
       "      <td>Reseller</td>\n",
       "      <td>338.994</td>\n",
       "      <td>Southwest</td>\n",
       "    </tr>\n",
       "  </tbody>\n",
       "</table>\n",
       "<p>60919 rows × 4 columns</p>\n",
       "</div>"
      ],
      "text/plain": [
       "       OrderDate Sales_Channel  Total_Sales     Region\n",
       "0     2011-05-31      Reseller     2024.994  Southeast\n",
       "1     2011-05-31      Reseller     6074.982  Southeast\n",
       "2     2011-05-31      Reseller     2024.994  Southeast\n",
       "3     2011-05-31      Reseller     2039.994  Southeast\n",
       "4     2011-05-31      Reseller     2039.994  Southeast\n",
       "...          ...           ...          ...        ...\n",
       "60914 2014-05-01      Reseller      316.860  Southwest\n",
       "60915 2014-05-01      Reseller      809.760  Southwest\n",
       "60916 2014-05-01      Reseller     3274.800  Southwest\n",
       "60917 2014-05-01      Reseller       97.182  Southwest\n",
       "60918 2014-05-01      Reseller      338.994  Southwest\n",
       "\n",
       "[60919 rows x 4 columns]"
      ]
     },
     "execution_count": 3,
     "metadata": {},
     "output_type": "execute_result"
    }
   ],
   "source": [
    "df = pd.DataFrame(df)\n",
    "df.reset_index(drop=True, inplace=True)\n",
    "df\n"
   ]
  },
  {
   "cell_type": "code",
   "execution_count": 4,
   "id": "b4c63837",
   "metadata": {},
   "outputs": [
    {
     "data": {
      "text/plain": [
       "Timestamp('2014-05-01 00:00:00')"
      ]
     },
     "execution_count": 4,
     "metadata": {},
     "output_type": "execute_result"
    }
   ],
   "source": [
    "df.OrderDate.max() "
   ]
  },
  {
   "cell_type": "code",
   "execution_count": 5,
   "id": "c6b5ae21",
   "metadata": {},
   "outputs": [
    {
     "data": {
      "text/plain": [
       "Timestamp('2011-05-31 00:00:00')"
      ]
     },
     "execution_count": 5,
     "metadata": {},
     "output_type": "execute_result"
    }
   ],
   "source": [
    "df.OrderDate.min()"
   ]
  },
  {
   "cell_type": "code",
   "execution_count": 82,
   "id": "81237bd7",
   "metadata": {},
   "outputs": [],
   "source": [
    "#df['OrderDate']=pd.to_datetime(df['OrderDate'])"
   ]
  },
  {
   "cell_type": "code",
   "execution_count": 6,
   "id": "800d88a1",
   "metadata": {},
   "outputs": [
    {
     "data": {
      "text/html": [
       "<div>\n",
       "<style scoped>\n",
       "    .dataframe tbody tr th:only-of-type {\n",
       "        vertical-align: middle;\n",
       "    }\n",
       "\n",
       "    .dataframe tbody tr th {\n",
       "        vertical-align: top;\n",
       "    }\n",
       "\n",
       "    .dataframe thead th {\n",
       "        text-align: right;\n",
       "    }\n",
       "</style>\n",
       "<table border=\"1\" class=\"dataframe\">\n",
       "  <thead>\n",
       "    <tr style=\"text-align: right;\">\n",
       "      <th></th>\n",
       "      <th>OrderDate</th>\n",
       "      <th>Sales_Channel</th>\n",
       "      <th>Total_Sales</th>\n",
       "      <th>Region</th>\n",
       "    </tr>\n",
       "  </thead>\n",
       "  <tbody>\n",
       "    <tr>\n",
       "      <th>8743</th>\n",
       "      <td>2012-05-30</td>\n",
       "      <td>Reseller</td>\n",
       "      <td>1561.6364</td>\n",
       "      <td>United Kingdom</td>\n",
       "    </tr>\n",
       "    <tr>\n",
       "      <th>8744</th>\n",
       "      <td>2012-05-30</td>\n",
       "      <td>Reseller</td>\n",
       "      <td>939.5880</td>\n",
       "      <td>United Kingdom</td>\n",
       "    </tr>\n",
       "    <tr>\n",
       "      <th>8745</th>\n",
       "      <td>2012-05-30</td>\n",
       "      <td>Reseller</td>\n",
       "      <td>939.5880</td>\n",
       "      <td>United Kingdom</td>\n",
       "    </tr>\n",
       "    <tr>\n",
       "      <th>8746</th>\n",
       "      <td>2012-05-30</td>\n",
       "      <td>Reseller</td>\n",
       "      <td>86.5212</td>\n",
       "      <td>United Kingdom</td>\n",
       "    </tr>\n",
       "    <tr>\n",
       "      <th>8747</th>\n",
       "      <td>2012-05-30</td>\n",
       "      <td>Reseller</td>\n",
       "      <td>1561.6364</td>\n",
       "      <td>United Kingdom</td>\n",
       "    </tr>\n",
       "    <tr>\n",
       "      <th>...</th>\n",
       "      <td>...</td>\n",
       "      <td>...</td>\n",
       "      <td>...</td>\n",
       "      <td>...</td>\n",
       "    </tr>\n",
       "    <tr>\n",
       "      <th>60667</th>\n",
       "      <td>2014-05-01</td>\n",
       "      <td>Reseller</td>\n",
       "      <td>89.9820</td>\n",
       "      <td>United Kingdom</td>\n",
       "    </tr>\n",
       "    <tr>\n",
       "      <th>60668</th>\n",
       "      <td>2014-05-01</td>\n",
       "      <td>Reseller</td>\n",
       "      <td>32.3940</td>\n",
       "      <td>United Kingdom</td>\n",
       "    </tr>\n",
       "    <tr>\n",
       "      <th>60669</th>\n",
       "      <td>2014-05-01</td>\n",
       "      <td>Reseller</td>\n",
       "      <td>10.7880</td>\n",
       "      <td>United Kingdom</td>\n",
       "    </tr>\n",
       "    <tr>\n",
       "      <th>60670</th>\n",
       "      <td>2014-05-01</td>\n",
       "      <td>Reseller</td>\n",
       "      <td>2016.8820</td>\n",
       "      <td>United Kingdom</td>\n",
       "    </tr>\n",
       "    <tr>\n",
       "      <th>60761</th>\n",
       "      <td>2014-05-01</td>\n",
       "      <td>Reseller</td>\n",
       "      <td>31.5840</td>\n",
       "      <td>United Kingdom</td>\n",
       "    </tr>\n",
       "  </tbody>\n",
       "</table>\n",
       "<p>3520 rows × 4 columns</p>\n",
       "</div>"
      ],
      "text/plain": [
       "       OrderDate Sales_Channel  Total_Sales          Region\n",
       "8743  2012-05-30      Reseller    1561.6364  United Kingdom\n",
       "8744  2012-05-30      Reseller     939.5880  United Kingdom\n",
       "8745  2012-05-30      Reseller     939.5880  United Kingdom\n",
       "8746  2012-05-30      Reseller      86.5212  United Kingdom\n",
       "8747  2012-05-30      Reseller    1561.6364  United Kingdom\n",
       "...          ...           ...          ...             ...\n",
       "60667 2014-05-01      Reseller      89.9820  United Kingdom\n",
       "60668 2014-05-01      Reseller      32.3940  United Kingdom\n",
       "60669 2014-05-01      Reseller      10.7880  United Kingdom\n",
       "60670 2014-05-01      Reseller    2016.8820  United Kingdom\n",
       "60761 2014-05-01      Reseller      31.5840  United Kingdom\n",
       "\n",
       "[3520 rows x 4 columns]"
      ]
     },
     "execution_count": 6,
     "metadata": {},
     "output_type": "execute_result"
    }
   ],
   "source": [
    "online_channel= df.loc[df['Region'] == 'United Kingdom',:]\n",
    "online_channel"
   ]
  },
  {
   "cell_type": "markdown",
   "id": "a8b3d9d0",
   "metadata": {},
   "source": [
    "### Data Preprocessing"
   ]
  },
  {
   "cell_type": "code",
   "execution_count": 7,
   "id": "da8db6b7",
   "metadata": {},
   "outputs": [
    {
     "data": {
      "text/plain": [
       "OrderDate      0\n",
       "Total_Sales    0\n",
       "dtype: int64"
      ]
     },
     "execution_count": 7,
     "metadata": {},
     "output_type": "execute_result"
    }
   ],
   "source": [
    "cols = ['Sales_Channel','Region']\n",
    "online_channel.drop(cols, axis=1, inplace=True)\n",
    "online_channel = online_channel.sort_values('OrderDate')\n",
    "online_channel.isnull().sum()\n"
   ]
  },
  {
   "cell_type": "code",
   "execution_count": 8,
   "id": "b848d0d4",
   "metadata": {},
   "outputs": [
    {
     "data": {
      "text/html": [
       "<div>\n",
       "<style scoped>\n",
       "    .dataframe tbody tr th:only-of-type {\n",
       "        vertical-align: middle;\n",
       "    }\n",
       "\n",
       "    .dataframe tbody tr th {\n",
       "        vertical-align: top;\n",
       "    }\n",
       "\n",
       "    .dataframe thead th {\n",
       "        text-align: right;\n",
       "    }\n",
       "</style>\n",
       "<table border=\"1\" class=\"dataframe\">\n",
       "  <thead>\n",
       "    <tr style=\"text-align: right;\">\n",
       "      <th></th>\n",
       "      <th>OrderDate</th>\n",
       "      <th>Total_Sales</th>\n",
       "    </tr>\n",
       "  </thead>\n",
       "  <tbody>\n",
       "    <tr>\n",
       "      <th>0</th>\n",
       "      <td>2012-05-30</td>\n",
       "      <td>82046.9992</td>\n",
       "    </tr>\n",
       "    <tr>\n",
       "      <th>1</th>\n",
       "      <td>2012-06-30</td>\n",
       "      <td>183017.9479</td>\n",
       "    </tr>\n",
       "    <tr>\n",
       "      <th>2</th>\n",
       "      <td>2012-07-31</td>\n",
       "      <td>209046.7943</td>\n",
       "    </tr>\n",
       "    <tr>\n",
       "      <th>3</th>\n",
       "      <td>2012-08-30</td>\n",
       "      <td>63444.2626</td>\n",
       "    </tr>\n",
       "    <tr>\n",
       "      <th>4</th>\n",
       "      <td>2012-09-30</td>\n",
       "      <td>140676.8624</td>\n",
       "    </tr>\n",
       "    <tr>\n",
       "      <th>5</th>\n",
       "      <td>2012-10-30</td>\n",
       "      <td>166016.1545</td>\n",
       "    </tr>\n",
       "    <tr>\n",
       "      <th>6</th>\n",
       "      <td>2012-11-30</td>\n",
       "      <td>36790.8369</td>\n",
       "    </tr>\n",
       "    <tr>\n",
       "      <th>7</th>\n",
       "      <td>2012-12-31</td>\n",
       "      <td>121295.3011</td>\n",
       "    </tr>\n",
       "    <tr>\n",
       "      <th>8</th>\n",
       "      <td>2013-01-28</td>\n",
       "      <td>115841.3487</td>\n",
       "    </tr>\n",
       "    <tr>\n",
       "      <th>9</th>\n",
       "      <td>2013-02-28</td>\n",
       "      <td>48205.2292</td>\n",
       "    </tr>\n",
       "    <tr>\n",
       "      <th>10</th>\n",
       "      <td>2013-03-30</td>\n",
       "      <td>112229.0681</td>\n",
       "    </tr>\n",
       "    <tr>\n",
       "      <th>11</th>\n",
       "      <td>2013-04-30</td>\n",
       "      <td>130561.2708</td>\n",
       "    </tr>\n",
       "    <tr>\n",
       "      <th>12</th>\n",
       "      <td>2013-05-30</td>\n",
       "      <td>155253.8781</td>\n",
       "    </tr>\n",
       "    <tr>\n",
       "      <th>13</th>\n",
       "      <td>2013-06-30</td>\n",
       "      <td>223869.9575</td>\n",
       "    </tr>\n",
       "    <tr>\n",
       "      <th>14</th>\n",
       "      <td>2013-07-31</td>\n",
       "      <td>507502.6398</td>\n",
       "    </tr>\n",
       "    <tr>\n",
       "      <th>15</th>\n",
       "      <td>2013-08-30</td>\n",
       "      <td>116262.5846</td>\n",
       "    </tr>\n",
       "    <tr>\n",
       "      <th>16</th>\n",
       "      <td>2013-09-30</td>\n",
       "      <td>199239.8670</td>\n",
       "    </tr>\n",
       "    <tr>\n",
       "      <th>17</th>\n",
       "      <td>2013-10-30</td>\n",
       "      <td>419733.9537</td>\n",
       "    </tr>\n",
       "    <tr>\n",
       "      <th>18</th>\n",
       "      <td>2013-11-30</td>\n",
       "      <td>80605.6537</td>\n",
       "    </tr>\n",
       "    <tr>\n",
       "      <th>19</th>\n",
       "      <td>2013-12-31</td>\n",
       "      <td>151047.7920</td>\n",
       "    </tr>\n",
       "    <tr>\n",
       "      <th>20</th>\n",
       "      <td>2014-01-29</td>\n",
       "      <td>310933.2066</td>\n",
       "    </tr>\n",
       "    <tr>\n",
       "      <th>21</th>\n",
       "      <td>2014-03-01</td>\n",
       "      <td>110092.1045</td>\n",
       "    </tr>\n",
       "    <tr>\n",
       "      <th>22</th>\n",
       "      <td>2014-03-31</td>\n",
       "      <td>199352.8980</td>\n",
       "    </tr>\n",
       "    <tr>\n",
       "      <th>23</th>\n",
       "      <td>2014-05-01</td>\n",
       "      <td>428060.2748</td>\n",
       "    </tr>\n",
       "  </tbody>\n",
       "</table>\n",
       "</div>"
      ],
      "text/plain": [
       "    OrderDate  Total_Sales\n",
       "0  2012-05-30   82046.9992\n",
       "1  2012-06-30  183017.9479\n",
       "2  2012-07-31  209046.7943\n",
       "3  2012-08-30   63444.2626\n",
       "4  2012-09-30  140676.8624\n",
       "5  2012-10-30  166016.1545\n",
       "6  2012-11-30   36790.8369\n",
       "7  2012-12-31  121295.3011\n",
       "8  2013-01-28  115841.3487\n",
       "9  2013-02-28   48205.2292\n",
       "10 2013-03-30  112229.0681\n",
       "11 2013-04-30  130561.2708\n",
       "12 2013-05-30  155253.8781\n",
       "13 2013-06-30  223869.9575\n",
       "14 2013-07-31  507502.6398\n",
       "15 2013-08-30  116262.5846\n",
       "16 2013-09-30  199239.8670\n",
       "17 2013-10-30  419733.9537\n",
       "18 2013-11-30   80605.6537\n",
       "19 2013-12-31  151047.7920\n",
       "20 2014-01-29  310933.2066\n",
       "21 2014-03-01  110092.1045\n",
       "22 2014-03-31  199352.8980\n",
       "23 2014-05-01  428060.2748"
      ]
     },
     "execution_count": 8,
     "metadata": {},
     "output_type": "execute_result"
    }
   ],
   "source": [
    "online_channel = online_channel.groupby('OrderDate')['Total_Sales'].sum().reset_index()\n",
    "online_channel"
   ]
  },
  {
   "cell_type": "markdown",
   "id": "a6cb1d15",
   "metadata": {},
   "source": [
    "### Indexing with Time Series Data"
   ]
  },
  {
   "cell_type": "code",
   "execution_count": 9,
   "id": "4b6aa687",
   "metadata": {},
   "outputs": [
    {
     "data": {
      "text/plain": [
       "DatetimeIndex(['2012-05-30', '2012-06-30', '2012-07-31', '2012-08-30',\n",
       "               '2012-09-30', '2012-10-30', '2012-11-30', '2012-12-31',\n",
       "               '2013-01-28', '2013-02-28', '2013-03-30', '2013-04-30',\n",
       "               '2013-05-30', '2013-06-30', '2013-07-31', '2013-08-30',\n",
       "               '2013-09-30', '2013-10-30', '2013-11-30', '2013-12-31',\n",
       "               '2014-01-29', '2014-03-01', '2014-03-31', '2014-05-01'],\n",
       "              dtype='datetime64[ns]', name='OrderDate', freq=None)"
      ]
     },
     "execution_count": 9,
     "metadata": {},
     "output_type": "execute_result"
    }
   ],
   "source": [
    "online_channel = online_channel.set_index('OrderDate')\n",
    "online_channel.index"
   ]
  },
  {
   "cell_type": "markdown",
   "id": "51ecec67",
   "metadata": {},
   "source": [
    "current datetime data can be tricky to work with, therefore, we will use the averages daily sales value for that month instead, and we are using the start of each month as the timestamp."
   ]
  },
  {
   "cell_type": "code",
   "execution_count": 10,
   "id": "01b6d730",
   "metadata": {},
   "outputs": [],
   "source": [
    "y = online_channel['Total_Sales'].resample('MS').mean()\n",
    "y = y.fillna(y.bfill())"
   ]
  },
  {
   "cell_type": "code",
   "execution_count": 11,
   "id": "9ca889a8",
   "metadata": {},
   "outputs": [
    {
     "data": {
      "text/plain": [
       "OrderDate\n",
       "2014-01-01    310933.20660\n",
       "2014-02-01    154722.50125\n",
       "2014-03-01    154722.50125\n",
       "2014-04-01    428060.27480\n",
       "2014-05-01    428060.27480\n",
       "Freq: MS, Name: Total_Sales, dtype: float64"
      ]
     },
     "execution_count": 11,
     "metadata": {},
     "output_type": "execute_result"
    }
   ],
   "source": [
    "y['2014':]"
   ]
  },
  {
   "cell_type": "code",
   "execution_count": 12,
   "id": "2b950ff1",
   "metadata": {},
   "outputs": [
    {
     "data": {
      "image/png": "[encoded data removed]",
      "text/plain": [
       "<Figure size 1080x432 with 1 Axes>"
      ]
     },
     "metadata": {},
     "output_type": "display_data"
    }
   ],
   "source": [
    "#Visualizing Country Sales Time Series Data\n",
    "y.plot(figsize=(15, 6))\n",
    "plt.show()"
   ]
  },
  {
   "cell_type": "markdown",
   "id": "a7eef6d4",
   "metadata": {},
   "source": [
    "Some distinguishable patterns appear when we plot the data. The time-series has seasonality pattern, such as sales are always low at the beginning of the year and high at the end of the year. There is always an upward trend within any single year with a couple of low months in the mid of the year.\n",
    "We can also visualize our data using a method called time-series decomposition that allows us to decompose our time series into three distinct components: trend, seasonality, and noise."
   ]
  },
  {
   "cell_type": "markdown",
   "id": "46920421",
   "metadata": {},
   "source": [
    "### Time series forecasting with ARIMA\n",
    "We are going to apply one of the most commonly used method for time-series forecasting, known as ARIMA, which stands for Autoregressive Integrated Moving Average.\n",
    "ARIMA models are denoted with the notation ARIMA(p, d, q). These three parameters account for seasonality, trend, and noise in data:"
   ]
  },
  {
   "cell_type": "code",
   "execution_count": 13,
   "id": "c916aa55",
   "metadata": {},
   "outputs": [
    {
     "name": "stdout",
     "output_type": "stream",
     "text": [
      "Examples of parameter combinations for Seasonal ARIMA...\n",
      "SARIMAX: (0, 0, 1) x (0, 0, 1, 12)\n",
      "SARIMAX: (0, 0, 1) x (0, 1, 0, 12)\n",
      "SARIMAX: (0, 1, 0) x (0, 1, 1, 12)\n",
      "SARIMAX: (0, 1, 0) x (1, 0, 0, 12)\n"
     ]
    }
   ],
   "source": [
    "p = d = q = range(0, 2)\n",
    "pdq = list(itertools.product(p, d, q))\n",
    "seasonal_pdq = [(x[0], x[1], x[2], 12) for x in list(itertools.product(p, d, q))]\n",
    "print('Examples of parameter combinations for Seasonal ARIMA...')\n",
    "print('SARIMAX: {} x {}'.format(pdq[1], seasonal_pdq[1]))\n",
    "print('SARIMAX: {} x {}'.format(pdq[1], seasonal_pdq[2]))\n",
    "print('SARIMAX: {} x {}'.format(pdq[2], seasonal_pdq[3]))\n",
    "print('SARIMAX: {} x {}'.format(pdq[2], seasonal_pdq[4]))"
   ]
  },
  {
   "cell_type": "markdown",
   "id": "271e4391",
   "metadata": {},
   "source": [
    "This step is parameter Selection for our furniture’s sales ARIMA Time Series Model. Our goal here is to use a “grid search” to find the optimal set of parameters that yields the best performance for our model."
   ]
  },
  {
   "cell_type": "code",
   "execution_count": 14,
   "id": "3dd580df",
   "metadata": {},
   "outputs": [
    {
     "name": "stdout",
     "output_type": "stream",
     "text": [
      "ARIMA(0, 0, 0)x(0, 0, 0, 12)12 - AIC:663.1356363364944\n",
      "ARIMA(0, 0, 0)x(0, 0, 1, 12)12 - AIC:314.27145501015684\n",
      "ARIMA(0, 0, 0)x(0, 1, 0, 12)12 - AIC:330.15450527486297\n",
      "ARIMA(0, 0, 0)x(0, 1, 1, 12)12 - AIC:4.0\n",
      "ARIMA(0, 0, 0)x(1, 0, 0, 12)12 - AIC:337.33134171518896\n",
      "ARIMA(0, 0, 0)x(1, 0, 1, 12)12 - AIC:318.01078474119714\n",
      "ARIMA(0, 0, 0)x(1, 1, 0, 12)12 - AIC:28.964963575458672\n",
      "ARIMA(0, 0, 0)x(1, 1, 1, 12)12 - AIC:6.0\n",
      "ARIMA(0, 0, 1)x(0, 0, 0, 12)12 - AIC:626.8143601416408\n",
      "ARIMA(0, 0, 1)x(0, 0, 1, 12)12 - AIC:299.68230720634807\n",
      "ARIMA(0, 0, 1)x(0, 1, 0, 12)12 - AIC:298.13864804565657\n",
      "ARIMA(0, 0, 1)x(0, 1, 1, 12)12 - AIC:6.0\n",
      "ARIMA(0, 0, 1)x(1, 0, 0, 12)12 - AIC:353.3479783232975\n",
      "ARIMA(0, 0, 1)x(1, 0, 1, 12)12 - AIC:301.20890389622275\n",
      "ARIMA(0, 0, 1)x(1, 1, 0, 12)12 - AIC:32.00128660154928\n",
      "ARIMA(0, 0, 1)x(1, 1, 1, 12)12 - AIC:8.0\n",
      "ARIMA(0, 1, 0)x(0, 0, 0, 12)12 - AIC:618.9847859208055\n",
      "ARIMA(0, 1, 0)x(0, 0, 1, 12)12 - AIC:296.05418377970415\n",
      "ARIMA(0, 1, 0)x(0, 1, 0, 12)12 - AIC:302.96152505076384\n",
      "ARIMA(0, 1, 0)x(0, 1, 1, 12)12 - AIC:4.0\n",
      "ARIMA(0, 1, 0)x(1, 0, 0, 12)12 - AIC:322.47463486631307\n",
      "ARIMA(0, 1, 0)x(1, 0, 1, 12)12 - AIC:297.92290291872126\n",
      "ARIMA(0, 1, 0)x(1, 1, 0, 12)12 - AIC:4.0\n",
      "ARIMA(0, 1, 0)x(1, 1, 1, 12)12 - AIC:6.0\n",
      "ARIMA(0, 1, 1)x(0, 0, 0, 12)12 - AIC:586.1421199134384\n",
      "ARIMA(0, 1, 1)x(0, 0, 1, 12)12 - AIC:267.4707081663805\n",
      "ARIMA(0, 1, 1)x(0, 1, 0, 12)12 - AIC:266.0285832953099\n",
      "ARIMA(0, 1, 1)x(0, 1, 1, 12)12 - AIC:6.0\n",
      "ARIMA(0, 1, 1)x(1, 0, 0, 12)12 - AIC:319.8083179925347\n",
      "ARIMA(0, 1, 1)x(1, 0, 1, 12)12 - AIC:268.5276818939011\n",
      "ARIMA(0, 1, 1)x(1, 1, 0, 12)12 - AIC:6.0\n",
      "ARIMA(0, 1, 1)x(1, 1, 1, 12)12 - AIC:8.0\n",
      "ARIMA(1, 0, 0)x(0, 0, 0, 12)12 - AIC:645.4179804177304\n",
      "ARIMA(1, 0, 0)x(0, 0, 1, 12)12 - AIC:318.9246335194619\n",
      "ARIMA(1, 0, 0)x(0, 1, 0, 12)12 - AIC:323.9223154975583\n",
      "ARIMA(1, 0, 0)x(0, 1, 1, 12)12 - AIC:6.0\n",
      "ARIMA(1, 0, 0)x(1, 0, 0, 12)12 - AIC:318.92315189471475\n",
      "ARIMA(1, 0, 0)x(1, 0, 1, 12)12 - AIC:322.20502044291936\n",
      "ARIMA(1, 0, 0)x(1, 1, 0, 12)12 - AIC:6.0\n",
      "ARIMA(1, 0, 0)x(1, 1, 1, 12)12 - AIC:8.0\n",
      "ARIMA(1, 0, 1)x(0, 0, 0, 12)12 - AIC:605.5882461505387\n",
      "ARIMA(1, 0, 1)x(0, 0, 1, 12)12 - AIC:291.340848409497\n",
      "ARIMA(1, 0, 1)x(0, 1, 0, 12)12 - AIC:291.5403859355397\n",
      "ARIMA(1, 0, 1)x(0, 1, 1, 12)12 - AIC:8.0\n",
      "ARIMA(1, 0, 1)x(1, 0, 0, 12)12 - AIC:316.30632353560424\n",
      "ARIMA(1, 0, 1)x(1, 0, 1, 12)12 - AIC:294.38255435732856\n",
      "ARIMA(1, 0, 1)x(1, 1, 0, 12)12 - AIC:8.0\n",
      "ARIMA(1, 0, 1)x(1, 1, 1, 12)12 - AIC:10.0\n",
      "ARIMA(1, 1, 0)x(0, 0, 0, 12)12 - AIC:616.863401302088\n",
      "ARIMA(1, 1, 0)x(0, 0, 1, 12)12 - AIC:294.61671072020556\n",
      "ARIMA(1, 1, 0)x(0, 1, 0, 12)12 - AIC:297.452050036473\n",
      "ARIMA(1, 1, 0)x(0, 1, 1, 12)12 - AIC:6.0\n",
      "ARIMA(1, 1, 0)x(1, 0, 0, 12)12 - AIC:294.6155021566093\n",
      "ARIMA(1, 1, 0)x(1, 0, 1, 12)12 - AIC:297.0949562323584\n",
      "ARIMA(1, 1, 0)x(1, 1, 0, 12)12 - AIC:6.0\n",
      "ARIMA(1, 1, 0)x(1, 1, 1, 12)12 - AIC:8.0\n",
      "ARIMA(1, 1, 1)x(0, 0, 0, 12)12 - AIC:587.4952275423486\n",
      "ARIMA(1, 1, 1)x(0, 0, 1, 12)12 - AIC:268.6689708536889\n",
      "ARIMA(1, 1, 1)x(0, 1, 0, 12)12 - AIC:270.07674437577236\n",
      "ARIMA(1, 1, 1)x(0, 1, 1, 12)12 - AIC:8.0\n",
      "ARIMA(1, 1, 1)x(1, 0, 0, 12)12 - AIC:293.82979867854027\n",
      "ARIMA(1, 1, 1)x(1, 0, 1, 12)12 - AIC:269.30097189859305\n",
      "ARIMA(1, 1, 1)x(1, 1, 0, 12)12 - AIC:8.0\n",
      "ARIMA(1, 1, 1)x(1, 1, 1, 12)12 - AIC:10.0\n"
     ]
    }
   ],
   "source": [
    "warnings.filterwarnings(\"ignore\")\n",
    "for param in pdq:\n",
    "    for param_seasonal in seasonal_pdq:\n",
    "        try:\n",
    "            mod = sm.tsa.statespace.SARIMAX(y,\n",
    "                                            order=param,\n",
    "                                            seasonal_order=param_seasonal,\n",
    "                                            enforce_stationarity=False,\n",
    "                                            enforce_invertibility=False)\n",
    "\n",
    "            results = mod.fit()\n",
    "\n",
    "            print('ARIMA{}x{}12 - AIC:{}'.format(param, param_seasonal, results.aic))\n",
    "        except:\n",
    "            continue"
   ]
  },
  {
   "cell_type": "markdown",
   "id": "8744aa53",
   "metadata": {},
   "source": [
    " ### Fitting an ARIMA Time Series Model"
   ]
  },
  {
   "cell_type": "code",
   "execution_count": 15,
   "id": "162b89ad",
   "metadata": {},
   "outputs": [
    {
     "name": "stdout",
     "output_type": "stream",
     "text": [
      "==============================================================================\n",
      "                 coef    std err          z      P>|z|      [0.025      0.975]\n",
      "------------------------------------------------------------------------------\n",
      "ar.L1         -0.5122         -0        inf      0.000      -0.512      -0.512\n",
      "ma.L1          1.2145         -0       -inf      0.000       1.215       1.215\n",
      "ar.S.L12            0         -0        nan        nan           0           0\n",
      "ma.S.L12            0         -0        nan        nan           0           0\n",
      "sigma2      1.738e+10         -0       -inf      0.000    1.74e+10    1.74e+10\n",
      "==============================================================================\n"
     ]
    }
   ],
   "source": [
    "mod = sm.tsa.statespace.SARIMAX(y,\n",
    "                                order=(1, 1, 1),\n",
    "                                seasonal_order=(1, 1, 1, 12),\n",
    "                                enforce_stationarity=False,\n",
    "                                enforce_invertibility=False)\n",
    "\n",
    "results = mod.fit()\n",
    "\n",
    "print(results.summary().tables[1])"
   ]
  },
  {
   "cell_type": "markdown",
   "id": "4e1ab620",
   "metadata": {},
   "source": [
    "### Validating forecasts"
   ]
  },
  {
   "cell_type": "code",
   "execution_count": 16,
   "id": "564835ce",
   "metadata": {},
   "outputs": [],
   "source": [
    "pred = results.get_prediction(start=pd.to_datetime('2013-06-01'), end=pd.to_datetime('2014-05-01 05:40:00'),dynamic=True, full_results=True)\n",
    "pred_ci = pred.conf_int()\n",
    "\n"
   ]
  },
  {
   "cell_type": "code",
   "execution_count": 17,
   "id": "8f596801",
   "metadata": {},
   "outputs": [
    {
     "data": {
      "image/png": "[encoded data removed]",
      "text/plain": [
       "<Figure size 432x288 with 1 Axes>"
      ]
     },
     "metadata": {},
     "output_type": "display_data"
    }
   ],
   "source": [
    "ax = y['2011':].plot(label='observed')\n",
    "pred.predicted_mean.plot(ax=ax, label='One-step ahead Forecast', alpha=.7)\n",
    "\n",
    "ax.fill_between(pred_ci.index,\n",
    "                pred_ci.iloc[:, 0],\n",
    "                pred_ci.iloc[:, 1], color='k', alpha=.2)\n",
    "\n",
    "ax.set_xlabel('OrderDate')\n",
    "ax.set_ylabel('TOtal Sales')\n",
    "plt.legend()\n",
    "\n",
    "plt.show()"
   ]
  },
  {
   "cell_type": "code",
   "execution_count": 18,
   "id": "2cf3afaf",
   "metadata": {},
   "outputs": [
    {
     "name": "stdout",
     "output_type": "stream",
     "text": [
      "The Mean Squared Error of our forecasts is 60240034268.48\n"
     ]
    }
   ],
   "source": [
    "y_forecasted = pred.predicted_mean\n",
    "y_truth = y['2014-01-01':]\n",
    "mse = ((y_forecasted - y_truth) ** 2).mean()\n",
    "print('The Mean Squared Error of our forecasts is {}'.format(round(mse, 2)))\n"
   ]
  },
  {
   "cell_type": "code",
   "execution_count": 19,
   "id": "38153180",
   "metadata": {},
   "outputs": [
    {
     "name": "stdout",
     "output_type": "stream",
     "text": [
      "The Root Mean Squared Error of our forecasts is 245438.45\n"
     ]
    }
   ],
   "source": [
    "print('The Root Mean Squared Error of our forecasts is {}'.format(round(np.sqrt(mse), 2)))"
   ]
  },
  {
   "cell_type": "code",
   "execution_count": 21,
   "id": "3afc9779",
   "metadata": {
    "scrolled": false
   },
   "outputs": [
    {
     "data": {
      "image/png": "[encoded data removed]",
      "text/plain": [
       "<Figure size 1008x504 with 1 Axes>"
      ]
     },
     "metadata": {},
     "output_type": "display_data"
    }
   ],
   "source": [
    "pred_uc = results.get_forecast(steps=100)\n",
    "pred_ci = pred_uc.conf_int()\n",
    "ax = y.plot(label='observed', figsize=(14, 7))\n",
    "pred_uc.predicted_mean.plot(ax=ax, label='Reseller Forecast for United Kingdom Region')\n",
    "ax.fill_between(pred_ci.index,\n",
    "                pred_ci.iloc[:, 0],\n",
    "                pred_ci.iloc[:, 1], color='k', alpha=.25)\n",
    "ax.set_xlabel('OrderDate')\n",
    "ax.set_ylabel('TOtal Sales')\n",
    "plt.legend()\n",
    "plt.show()"
   ]
  },
  {
   "cell_type": "code",
   "execution_count": null,
   "id": "51b4e070",
   "metadata": {},
   "outputs": [],
   "source": []
  }
 ],
 "metadata": {
  "kernelspec": {
   "display_name": "Python 3",
   "language": "python",
   "name": "python3"
  },
  "language_info": {
   "codemirror_mode": {
    "name": "ipython",
    "version": 3
   },
   "file_extension": ".py",
   "mimetype": "text/x-python",
   "name": "python",
   "nbconvert_exporter": "python",
   "pygments_lexer": "ipython3",
   "version": "3.8.8"
  }
 },
 "nbformat": 4,
 "nbformat_minor": 5
}
