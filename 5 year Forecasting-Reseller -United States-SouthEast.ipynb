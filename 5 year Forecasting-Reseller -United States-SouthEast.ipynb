{
 "cells": [
  {
   "cell_type": "markdown",
   "id": "a36af659",
   "metadata": {},
   "source": [
    "#### 5 year Forecasting With ResellerSales\n"
   ]
  },
  {
   "cell_type": "code",
   "execution_count": 1,
   "id": "98045ad7",
   "metadata": {},
   "outputs": [],
   "source": [
    "import warnings\n",
    "import itertools\n",
    "import numpy as np\n",
    "import matplotlib.pyplot as plt\n",
    "warnings.filterwarnings(\"ignore\")\n",
    "plt.style.use('fivethirtyeight')\n",
    "import pandas as pd\n",
    "import statsmodels.api as sm\n",
    "import matplotlib\n",
    "matplotlib.rcParams['axes.labelsize'] = 14\n",
    "matplotlib.rcParams['xtick.labelsize'] = 12\n",
    "matplotlib.rcParams['ytick.labelsize'] = 12\n",
    "matplotlib.rcParams['text.color'] = 'k'"
   ]
  },
  {
   "cell_type": "code",
   "execution_count": 2,
   "id": "36bdae9a",
   "metadata": {},
   "outputs": [
    {
     "data": {
      "text/html": [
       "<div>\n",
       "<style scoped>\n",
       "    .dataframe tbody tr th:only-of-type {\n",
       "        vertical-align: middle;\n",
       "    }\n",
       "\n",
       "    .dataframe tbody tr th {\n",
       "        vertical-align: top;\n",
       "    }\n",
       "\n",
       "    .dataframe thead th {\n",
       "        text-align: right;\n",
       "    }\n",
       "</style>\n",
       "<table border=\"1\" class=\"dataframe\">\n",
       "  <thead>\n",
       "    <tr style=\"text-align: right;\">\n",
       "      <th></th>\n",
       "      <th>OrderDate</th>\n",
       "      <th>Sales_Channel</th>\n",
       "      <th>Total_Sales</th>\n",
       "      <th>Region</th>\n",
       "    </tr>\n",
       "  </thead>\n",
       "  <tbody>\n",
       "    <tr>\n",
       "      <th>0</th>\n",
       "      <td>2011-05-31</td>\n",
       "      <td>Reseller</td>\n",
       "      <td>2024.994</td>\n",
       "      <td>Southeast</td>\n",
       "    </tr>\n",
       "    <tr>\n",
       "      <th>1</th>\n",
       "      <td>2011-05-31</td>\n",
       "      <td>Reseller</td>\n",
       "      <td>6074.982</td>\n",
       "      <td>Southeast</td>\n",
       "    </tr>\n",
       "    <tr>\n",
       "      <th>2</th>\n",
       "      <td>2011-05-31</td>\n",
       "      <td>Reseller</td>\n",
       "      <td>2024.994</td>\n",
       "      <td>Southeast</td>\n",
       "    </tr>\n",
       "    <tr>\n",
       "      <th>3</th>\n",
       "      <td>2011-05-31</td>\n",
       "      <td>Reseller</td>\n",
       "      <td>2039.994</td>\n",
       "      <td>Southeast</td>\n",
       "    </tr>\n",
       "    <tr>\n",
       "      <th>4</th>\n",
       "      <td>2011-05-31</td>\n",
       "      <td>Reseller</td>\n",
       "      <td>2039.994</td>\n",
       "      <td>Southeast</td>\n",
       "    </tr>\n",
       "  </tbody>\n",
       "</table>\n",
       "</div>"
      ],
      "text/plain": [
       "   OrderDate Sales_Channel  Total_Sales     Region\n",
       "0 2011-05-31      Reseller     2024.994  Southeast\n",
       "1 2011-05-31      Reseller     6074.982  Southeast\n",
       "2 2011-05-31      Reseller     2024.994  Southeast\n",
       "3 2011-05-31      Reseller     2039.994  Southeast\n",
       "4 2011-05-31      Reseller     2039.994  Southeast"
      ]
     },
     "execution_count": 2,
     "metadata": {},
     "output_type": "execute_result"
    }
   ],
   "source": [
    "import pyodbc \n",
    "import pandas as pd\n",
    "conn = pyodbc.connect('Driver={SQL Server};'\n",
    "                      'Server=DESKTOP-4P75PCB;'\n",
    "                      'Database=AdventureWorks2012;' \n",
    "                      'Trusted_Connection=yes;')\n",
    "\n",
    "\n",
    "sql_for_df1 = \"\"\"SELECT SOH.[OrderDate],CASE WHEN SOH.[OnlineOrderFlag] = 1 THEN 'Online' ELSE 'Reseller' END AS Sales_Channel,\n",
    "                SO.[OrderQty]*SO.[UnitPrice] AS Total_Sales,\n",
    "                ST.Name AS Region \n",
    "                FROM [Sales].[SalesOrderDetail] AS SO \\\n",
    "                INNER JOIN [Sales].[SalesOrderHeader] AS SOH \\\n",
    "                ON SO.SalesOrderID = SOH.SalesOrderID \\\n",
    "                INNER JOIN [Production].[Product] AS PP \\\n",
    "                ON SO.[ProductID] = PP.ProductID \\\n",
    "                INNER JOIN  [Production].[ProductSubcategory] AS PSC \\\n",
    "                ON PP.[ProductSubcategoryID] = PSC.[ProductSubcategoryID] \\\n",
    "                INNER JOIN [Production].[ProductCategory] AS PC \\\n",
    "                ON PSC.[ProductCategoryID] = PC.[ProductCategoryID] \\\n",
    "                INNER JOIN [Sales].[SalesTerritory] AS ST \\\n",
    "                ON ST.TerritoryID =SOH.TerritoryID \\\n",
    "                WHERE OnlineOrderFlag = '0' \"\"\"\n",
    "\n",
    "df = pd.read_sql(sql_for_df1 , conn)\n",
    "\n",
    "\n",
    "conn.close()\n",
    "df.head()"
   ]
  },
  {
   "cell_type": "code",
   "execution_count": 3,
   "id": "c0d3d921",
   "metadata": {},
   "outputs": [
    {
     "data": {
      "text/html": [
       "<div>\n",
       "<style scoped>\n",
       "    .dataframe tbody tr th:only-of-type {\n",
       "        vertical-align: middle;\n",
       "    }\n",
       "\n",
       "    .dataframe tbody tr th {\n",
       "        vertical-align: top;\n",
       "    }\n",
       "\n",
       "    .dataframe thead th {\n",
       "        text-align: right;\n",
       "    }\n",
       "</style>\n",
       "<table border=\"1\" class=\"dataframe\">\n",
       "  <thead>\n",
       "    <tr style=\"text-align: right;\">\n",
       "      <th></th>\n",
       "      <th>OrderDate</th>\n",
       "      <th>Sales_Channel</th>\n",
       "      <th>Total_Sales</th>\n",
       "      <th>Region</th>\n",
       "    </tr>\n",
       "  </thead>\n",
       "  <tbody>\n",
       "    <tr>\n",
       "      <th>0</th>\n",
       "      <td>2011-05-31</td>\n",
       "      <td>Reseller</td>\n",
       "      <td>2024.994</td>\n",
       "      <td>Southeast</td>\n",
       "    </tr>\n",
       "    <tr>\n",
       "      <th>1</th>\n",
       "      <td>2011-05-31</td>\n",
       "      <td>Reseller</td>\n",
       "      <td>6074.982</td>\n",
       "      <td>Southeast</td>\n",
       "    </tr>\n",
       "    <tr>\n",
       "      <th>2</th>\n",
       "      <td>2011-05-31</td>\n",
       "      <td>Reseller</td>\n",
       "      <td>2024.994</td>\n",
       "      <td>Southeast</td>\n",
       "    </tr>\n",
       "    <tr>\n",
       "      <th>3</th>\n",
       "      <td>2011-05-31</td>\n",
       "      <td>Reseller</td>\n",
       "      <td>2039.994</td>\n",
       "      <td>Southeast</td>\n",
       "    </tr>\n",
       "    <tr>\n",
       "      <th>4</th>\n",
       "      <td>2011-05-31</td>\n",
       "      <td>Reseller</td>\n",
       "      <td>2039.994</td>\n",
       "      <td>Southeast</td>\n",
       "    </tr>\n",
       "    <tr>\n",
       "      <th>...</th>\n",
       "      <td>...</td>\n",
       "      <td>...</td>\n",
       "      <td>...</td>\n",
       "      <td>...</td>\n",
       "    </tr>\n",
       "    <tr>\n",
       "      <th>60914</th>\n",
       "      <td>2014-05-01</td>\n",
       "      <td>Reseller</td>\n",
       "      <td>316.860</td>\n",
       "      <td>Southwest</td>\n",
       "    </tr>\n",
       "    <tr>\n",
       "      <th>60915</th>\n",
       "      <td>2014-05-01</td>\n",
       "      <td>Reseller</td>\n",
       "      <td>809.760</td>\n",
       "      <td>Southwest</td>\n",
       "    </tr>\n",
       "    <tr>\n",
       "      <th>60916</th>\n",
       "      <td>2014-05-01</td>\n",
       "      <td>Reseller</td>\n",
       "      <td>3274.800</td>\n",
       "      <td>Southwest</td>\n",
       "    </tr>\n",
       "    <tr>\n",
       "      <th>60917</th>\n",
       "      <td>2014-05-01</td>\n",
       "      <td>Reseller</td>\n",
       "      <td>97.182</td>\n",
       "      <td>Southwest</td>\n",
       "    </tr>\n",
       "    <tr>\n",
       "      <th>60918</th>\n",
       "      <td>2014-05-01</td>\n",
       "      <td>Reseller</td>\n",
       "      <td>338.994</td>\n",
       "      <td>Southwest</td>\n",
       "    </tr>\n",
       "  </tbody>\n",
       "</table>\n",
       "<p>60919 rows × 4 columns</p>\n",
       "</div>"
      ],
      "text/plain": [
       "       OrderDate Sales_Channel  Total_Sales     Region\n",
       "0     2011-05-31      Reseller     2024.994  Southeast\n",
       "1     2011-05-31      Reseller     6074.982  Southeast\n",
       "2     2011-05-31      Reseller     2024.994  Southeast\n",
       "3     2011-05-31      Reseller     2039.994  Southeast\n",
       "4     2011-05-31      Reseller     2039.994  Southeast\n",
       "...          ...           ...          ...        ...\n",
       "60914 2014-05-01      Reseller      316.860  Southwest\n",
       "60915 2014-05-01      Reseller      809.760  Southwest\n",
       "60916 2014-05-01      Reseller     3274.800  Southwest\n",
       "60917 2014-05-01      Reseller       97.182  Southwest\n",
       "60918 2014-05-01      Reseller      338.994  Southwest\n",
       "\n",
       "[60919 rows x 4 columns]"
      ]
     },
     "execution_count": 3,
     "metadata": {},
     "output_type": "execute_result"
    }
   ],
   "source": [
    "df = pd.DataFrame(df)\n",
    "df.reset_index(drop=True, inplace=True)\n",
    "df\n"
   ]
  },
  {
   "cell_type": "code",
   "execution_count": 4,
   "id": "b4c63837",
   "metadata": {},
   "outputs": [
    {
     "data": {
      "text/plain": [
       "Timestamp('2014-05-01 00:00:00')"
      ]
     },
     "execution_count": 4,
     "metadata": {},
     "output_type": "execute_result"
    }
   ],
   "source": [
    "df.OrderDate.max() "
   ]
  },
  {
   "cell_type": "code",
   "execution_count": 5,
   "id": "c6b5ae21",
   "metadata": {},
   "outputs": [
    {
     "data": {
      "text/plain": [
       "Timestamp('2011-05-31 00:00:00')"
      ]
     },
     "execution_count": 5,
     "metadata": {},
     "output_type": "execute_result"
    }
   ],
   "source": [
    "df.OrderDate.min()"
   ]
  },
  {
   "cell_type": "code",
   "execution_count": 82,
   "id": "81237bd7",
   "metadata": {},
   "outputs": [],
   "source": [
    "#df['OrderDate']=pd.to_datetime(df['OrderDate'])"
   ]
  },
  {
   "cell_type": "code",
   "execution_count": 7,
   "id": "800d88a1",
   "metadata": {},
   "outputs": [
    {
     "data": {
      "text/html": [
       "<div>\n",
       "<style scoped>\n",
       "    .dataframe tbody tr th:only-of-type {\n",
       "        vertical-align: middle;\n",
       "    }\n",
       "\n",
       "    .dataframe tbody tr th {\n",
       "        vertical-align: top;\n",
       "    }\n",
       "\n",
       "    .dataframe thead th {\n",
       "        text-align: right;\n",
       "    }\n",
       "</style>\n",
       "<table border=\"1\" class=\"dataframe\">\n",
       "  <thead>\n",
       "    <tr style=\"text-align: right;\">\n",
       "      <th></th>\n",
       "      <th>OrderDate</th>\n",
       "      <th>Sales_Channel</th>\n",
       "      <th>Total_Sales</th>\n",
       "      <th>Region</th>\n",
       "    </tr>\n",
       "  </thead>\n",
       "  <tbody>\n",
       "    <tr>\n",
       "      <th>0</th>\n",
       "      <td>2011-05-31</td>\n",
       "      <td>Reseller</td>\n",
       "      <td>2024.994</td>\n",
       "      <td>Southeast</td>\n",
       "    </tr>\n",
       "    <tr>\n",
       "      <th>1</th>\n",
       "      <td>2011-05-31</td>\n",
       "      <td>Reseller</td>\n",
       "      <td>6074.982</td>\n",
       "      <td>Southeast</td>\n",
       "    </tr>\n",
       "    <tr>\n",
       "      <th>2</th>\n",
       "      <td>2011-05-31</td>\n",
       "      <td>Reseller</td>\n",
       "      <td>2024.994</td>\n",
       "      <td>Southeast</td>\n",
       "    </tr>\n",
       "    <tr>\n",
       "      <th>3</th>\n",
       "      <td>2011-05-31</td>\n",
       "      <td>Reseller</td>\n",
       "      <td>2039.994</td>\n",
       "      <td>Southeast</td>\n",
       "    </tr>\n",
       "    <tr>\n",
       "      <th>4</th>\n",
       "      <td>2011-05-31</td>\n",
       "      <td>Reseller</td>\n",
       "      <td>2039.994</td>\n",
       "      <td>Southeast</td>\n",
       "    </tr>\n",
       "    <tr>\n",
       "      <th>...</th>\n",
       "      <td>...</td>\n",
       "      <td>...</td>\n",
       "      <td>...</td>\n",
       "      <td>...</td>\n",
       "    </tr>\n",
       "    <tr>\n",
       "      <th>60873</th>\n",
       "      <td>2014-05-01</td>\n",
       "      <td>Reseller</td>\n",
       "      <td>2753.988</td>\n",
       "      <td>Southeast</td>\n",
       "    </tr>\n",
       "    <tr>\n",
       "      <th>60874</th>\n",
       "      <td>2014-05-01</td>\n",
       "      <td>Reseller</td>\n",
       "      <td>125.982</td>\n",
       "      <td>Southeast</td>\n",
       "    </tr>\n",
       "    <tr>\n",
       "      <th>60875</th>\n",
       "      <td>2014-05-01</td>\n",
       "      <td>Reseller</td>\n",
       "      <td>251.964</td>\n",
       "      <td>Southeast</td>\n",
       "    </tr>\n",
       "    <tr>\n",
       "      <th>60876</th>\n",
       "      <td>2014-05-01</td>\n",
       "      <td>Reseller</td>\n",
       "      <td>125.982</td>\n",
       "      <td>Southeast</td>\n",
       "    </tr>\n",
       "    <tr>\n",
       "      <th>60877</th>\n",
       "      <td>2014-05-01</td>\n",
       "      <td>Reseller</td>\n",
       "      <td>1376.994</td>\n",
       "      <td>Southeast</td>\n",
       "    </tr>\n",
       "  </tbody>\n",
       "</table>\n",
       "<p>5937 rows × 4 columns</p>\n",
       "</div>"
      ],
      "text/plain": [
       "       OrderDate Sales_Channel  Total_Sales     Region\n",
       "0     2011-05-31      Reseller     2024.994  Southeast\n",
       "1     2011-05-31      Reseller     6074.982  Southeast\n",
       "2     2011-05-31      Reseller     2024.994  Southeast\n",
       "3     2011-05-31      Reseller     2039.994  Southeast\n",
       "4     2011-05-31      Reseller     2039.994  Southeast\n",
       "...          ...           ...          ...        ...\n",
       "60873 2014-05-01      Reseller     2753.988  Southeast\n",
       "60874 2014-05-01      Reseller      125.982  Southeast\n",
       "60875 2014-05-01      Reseller      251.964  Southeast\n",
       "60876 2014-05-01      Reseller      125.982  Southeast\n",
       "60877 2014-05-01      Reseller     1376.994  Southeast\n",
       "\n",
       "[5937 rows x 4 columns]"
      ]
     },
     "execution_count": 7,
     "metadata": {},
     "output_type": "execute_result"
    }
   ],
   "source": [
    "online_channel= df.loc[df['Region'] == 'Southeast',:]\n",
    "online_channel"
   ]
  },
  {
   "cell_type": "markdown",
   "id": "a8b3d9d0",
   "metadata": {},
   "source": [
    "### Data Preprocessing"
   ]
  },
  {
   "cell_type": "code",
   "execution_count": 8,
   "id": "da8db6b7",
   "metadata": {},
   "outputs": [
    {
     "data": {
      "text/plain": [
       "OrderDate      0\n",
       "Total_Sales    0\n",
       "dtype: int64"
      ]
     },
     "execution_count": 8,
     "metadata": {},
     "output_type": "execute_result"
    }
   ],
   "source": [
    "cols = ['Sales_Channel','Region']\n",
    "online_channel.drop(cols, axis=1, inplace=True)\n",
    "online_channel = online_channel.sort_values('OrderDate')\n",
    "online_channel.isnull().sum()\n"
   ]
  },
  {
   "cell_type": "code",
   "execution_count": 9,
   "id": "b848d0d4",
   "metadata": {},
   "outputs": [
    {
     "data": {
      "text/html": [
       "<div>\n",
       "<style scoped>\n",
       "    .dataframe tbody tr th:only-of-type {\n",
       "        vertical-align: middle;\n",
       "    }\n",
       "\n",
       "    .dataframe tbody tr th {\n",
       "        vertical-align: top;\n",
       "    }\n",
       "\n",
       "    .dataframe thead th {\n",
       "        text-align: right;\n",
       "    }\n",
       "</style>\n",
       "<table border=\"1\" class=\"dataframe\">\n",
       "  <thead>\n",
       "    <tr style=\"text-align: right;\">\n",
       "      <th></th>\n",
       "      <th>OrderDate</th>\n",
       "      <th>Total_Sales</th>\n",
       "    </tr>\n",
       "  </thead>\n",
       "  <tbody>\n",
       "    <tr>\n",
       "      <th>0</th>\n",
       "      <td>2011-05-31</td>\n",
       "      <td>139164.1943</td>\n",
       "    </tr>\n",
       "    <tr>\n",
       "      <th>1</th>\n",
       "      <td>2011-07-01</td>\n",
       "      <td>302889.7185</td>\n",
       "    </tr>\n",
       "    <tr>\n",
       "      <th>2</th>\n",
       "      <td>2011-08-01</td>\n",
       "      <td>138208.9534</td>\n",
       "    </tr>\n",
       "    <tr>\n",
       "      <th>3</th>\n",
       "      <td>2011-08-31</td>\n",
       "      <td>170547.2734</td>\n",
       "    </tr>\n",
       "    <tr>\n",
       "      <th>4</th>\n",
       "      <td>2011-10-01</td>\n",
       "      <td>447998.4794</td>\n",
       "    </tr>\n",
       "    <tr>\n",
       "      <th>5</th>\n",
       "      <td>2011-10-31</td>\n",
       "      <td>252006.3845</td>\n",
       "    </tr>\n",
       "    <tr>\n",
       "      <th>6</th>\n",
       "      <td>2011-12-01</td>\n",
       "      <td>191468.4959</td>\n",
       "    </tr>\n",
       "    <tr>\n",
       "      <th>7</th>\n",
       "      <td>2012-01-01</td>\n",
       "      <td>311908.3705</td>\n",
       "    </tr>\n",
       "    <tr>\n",
       "      <th>8</th>\n",
       "      <td>2012-01-29</td>\n",
       "      <td>167508.1474</td>\n",
       "    </tr>\n",
       "    <tr>\n",
       "      <th>9</th>\n",
       "      <td>2012-02-29</td>\n",
       "      <td>246363.2444</td>\n",
       "    </tr>\n",
       "    <tr>\n",
       "      <th>10</th>\n",
       "      <td>2012-03-30</td>\n",
       "      <td>375133.1630</td>\n",
       "    </tr>\n",
       "    <tr>\n",
       "      <th>11</th>\n",
       "      <td>2012-04-30</td>\n",
       "      <td>134904.4674</td>\n",
       "    </tr>\n",
       "    <tr>\n",
       "      <th>12</th>\n",
       "      <td>2012-05-30</td>\n",
       "      <td>186000.0114</td>\n",
       "    </tr>\n",
       "    <tr>\n",
       "      <th>13</th>\n",
       "      <td>2012-06-30</td>\n",
       "      <td>320771.9699</td>\n",
       "    </tr>\n",
       "    <tr>\n",
       "      <th>14</th>\n",
       "      <td>2012-07-31</td>\n",
       "      <td>278061.9830</td>\n",
       "    </tr>\n",
       "    <tr>\n",
       "      <th>15</th>\n",
       "      <td>2012-08-30</td>\n",
       "      <td>146331.4534</td>\n",
       "    </tr>\n",
       "    <tr>\n",
       "      <th>16</th>\n",
       "      <td>2012-09-30</td>\n",
       "      <td>249517.7958</td>\n",
       "    </tr>\n",
       "    <tr>\n",
       "      <th>17</th>\n",
       "      <td>2012-10-30</td>\n",
       "      <td>230572.8238</td>\n",
       "    </tr>\n",
       "    <tr>\n",
       "      <th>18</th>\n",
       "      <td>2012-11-30</td>\n",
       "      <td>124356.4637</td>\n",
       "    </tr>\n",
       "    <tr>\n",
       "      <th>19</th>\n",
       "      <td>2012-12-31</td>\n",
       "      <td>213361.7139</td>\n",
       "    </tr>\n",
       "    <tr>\n",
       "      <th>20</th>\n",
       "      <td>2013-01-28</td>\n",
       "      <td>139846.7791</td>\n",
       "    </tr>\n",
       "    <tr>\n",
       "      <th>21</th>\n",
       "      <td>2013-02-28</td>\n",
       "      <td>174783.9304</td>\n",
       "    </tr>\n",
       "    <tr>\n",
       "      <th>22</th>\n",
       "      <td>2013-03-30</td>\n",
       "      <td>213248.0740</td>\n",
       "    </tr>\n",
       "    <tr>\n",
       "      <th>23</th>\n",
       "      <td>2013-04-30</td>\n",
       "      <td>207143.3867</td>\n",
       "    </tr>\n",
       "    <tr>\n",
       "      <th>24</th>\n",
       "      <td>2013-05-30</td>\n",
       "      <td>178225.4437</td>\n",
       "    </tr>\n",
       "    <tr>\n",
       "      <th>25</th>\n",
       "      <td>2013-06-30</td>\n",
       "      <td>279373.9722</td>\n",
       "    </tr>\n",
       "    <tr>\n",
       "      <th>26</th>\n",
       "      <td>2013-07-31</td>\n",
       "      <td>298859.7378</td>\n",
       "    </tr>\n",
       "    <tr>\n",
       "      <th>27</th>\n",
       "      <td>2013-08-30</td>\n",
       "      <td>161728.9112</td>\n",
       "    </tr>\n",
       "    <tr>\n",
       "      <th>28</th>\n",
       "      <td>2013-09-30</td>\n",
       "      <td>233678.6762</td>\n",
       "    </tr>\n",
       "    <tr>\n",
       "      <th>29</th>\n",
       "      <td>2013-10-30</td>\n",
       "      <td>219962.6344</td>\n",
       "    </tr>\n",
       "    <tr>\n",
       "      <th>30</th>\n",
       "      <td>2013-11-30</td>\n",
       "      <td>115107.6915</td>\n",
       "    </tr>\n",
       "    <tr>\n",
       "      <th>31</th>\n",
       "      <td>2013-12-31</td>\n",
       "      <td>188759.3662</td>\n",
       "    </tr>\n",
       "    <tr>\n",
       "      <th>32</th>\n",
       "      <td>2014-01-29</td>\n",
       "      <td>196532.1160</td>\n",
       "    </tr>\n",
       "    <tr>\n",
       "      <th>33</th>\n",
       "      <td>2014-03-01</td>\n",
       "      <td>141086.4732</td>\n",
       "    </tr>\n",
       "    <tr>\n",
       "      <th>34</th>\n",
       "      <td>2014-03-31</td>\n",
       "      <td>263227.3410</td>\n",
       "    </tr>\n",
       "    <tr>\n",
       "      <th>35</th>\n",
       "      <td>2014-05-01</td>\n",
       "      <td>269678.6156</td>\n",
       "    </tr>\n",
       "  </tbody>\n",
       "</table>\n",
       "</div>"
      ],
      "text/plain": [
       "    OrderDate  Total_Sales\n",
       "0  2011-05-31  139164.1943\n",
       "1  2011-07-01  302889.7185\n",
       "2  2011-08-01  138208.9534\n",
       "3  2011-08-31  170547.2734\n",
       "4  2011-10-01  447998.4794\n",
       "5  2011-10-31  252006.3845\n",
       "6  2011-12-01  191468.4959\n",
       "7  2012-01-01  311908.3705\n",
       "8  2012-01-29  167508.1474\n",
       "9  2012-02-29  246363.2444\n",
       "10 2012-03-30  375133.1630\n",
       "11 2012-04-30  134904.4674\n",
       "12 2012-05-30  186000.0114\n",
       "13 2012-06-30  320771.9699\n",
       "14 2012-07-31  278061.9830\n",
       "15 2012-08-30  146331.4534\n",
       "16 2012-09-30  249517.7958\n",
       "17 2012-10-30  230572.8238\n",
       "18 2012-11-30  124356.4637\n",
       "19 2012-12-31  213361.7139\n",
       "20 2013-01-28  139846.7791\n",
       "21 2013-02-28  174783.9304\n",
       "22 2013-03-30  213248.0740\n",
       "23 2013-04-30  207143.3867\n",
       "24 2013-05-30  178225.4437\n",
       "25 2013-06-30  279373.9722\n",
       "26 2013-07-31  298859.7378\n",
       "27 2013-08-30  161728.9112\n",
       "28 2013-09-30  233678.6762\n",
       "29 2013-10-30  219962.6344\n",
       "30 2013-11-30  115107.6915\n",
       "31 2013-12-31  188759.3662\n",
       "32 2014-01-29  196532.1160\n",
       "33 2014-03-01  141086.4732\n",
       "34 2014-03-31  263227.3410\n",
       "35 2014-05-01  269678.6156"
      ]
     },
     "execution_count": 9,
     "metadata": {},
     "output_type": "execute_result"
    }
   ],
   "source": [
    "online_channel = online_channel.groupby('OrderDate')['Total_Sales'].sum().reset_index()\n",
    "online_channel"
   ]
  },
  {
   "cell_type": "markdown",
   "id": "a6cb1d15",
   "metadata": {},
   "source": [
    "### Indexing with Time Series Data"
   ]
  },
  {
   "cell_type": "code",
   "execution_count": 10,
   "id": "4b6aa687",
   "metadata": {},
   "outputs": [
    {
     "data": {
      "text/plain": [
       "DatetimeIndex(['2011-05-31', '2011-07-01', '2011-08-01', '2011-08-31',\n",
       "               '2011-10-01', '2011-10-31', '2011-12-01', '2012-01-01',\n",
       "               '2012-01-29', '2012-02-29', '2012-03-30', '2012-04-30',\n",
       "               '2012-05-30', '2012-06-30', '2012-07-31', '2012-08-30',\n",
       "               '2012-09-30', '2012-10-30', '2012-11-30', '2012-12-31',\n",
       "               '2013-01-28', '2013-02-28', '2013-03-30', '2013-04-30',\n",
       "               '2013-05-30', '2013-06-30', '2013-07-31', '2013-08-30',\n",
       "               '2013-09-30', '2013-10-30', '2013-11-30', '2013-12-31',\n",
       "               '2014-01-29', '2014-03-01', '2014-03-31', '2014-05-01'],\n",
       "              dtype='datetime64[ns]', name='OrderDate', freq=None)"
      ]
     },
     "execution_count": 10,
     "metadata": {},
     "output_type": "execute_result"
    }
   ],
   "source": [
    "online_channel = online_channel.set_index('OrderDate')\n",
    "online_channel.index"
   ]
  },
  {
   "cell_type": "markdown",
   "id": "51ecec67",
   "metadata": {},
   "source": [
    "current datetime data can be tricky to work with, therefore, we will use the averages daily sales value for that month instead, and we are using the start of each month as the timestamp."
   ]
  },
  {
   "cell_type": "code",
   "execution_count": 11,
   "id": "01b6d730",
   "metadata": {},
   "outputs": [],
   "source": [
    "y = online_channel['Total_Sales'].resample('MS').mean()\n",
    "y = y.fillna(y.bfill())"
   ]
  },
  {
   "cell_type": "code",
   "execution_count": 12,
   "id": "9ca889a8",
   "metadata": {},
   "outputs": [
    {
     "data": {
      "text/plain": [
       "OrderDate\n",
       "2014-01-01    196532.1160\n",
       "2014-02-01    202156.9071\n",
       "2014-03-01    202156.9071\n",
       "2014-04-01    269678.6156\n",
       "2014-05-01    269678.6156\n",
       "Freq: MS, Name: Total_Sales, dtype: float64"
      ]
     },
     "execution_count": 12,
     "metadata": {},
     "output_type": "execute_result"
    }
   ],
   "source": [
    "y['2014':]"
   ]
  },
  {
   "cell_type": "code",
   "execution_count": 13,
   "id": "2b950ff1",
   "metadata": {},
   "outputs": [
    {
     "data": {
      "image/png": "[encoded data removed]",
      "text/plain": [
       "<Figure size 1080x432 with 1 Axes>"
      ]
     },
     "metadata": {},
     "output_type": "display_data"
    }
   ],
   "source": [
    "#Visualizing Country Sales Time Series Data\n",
    "y.plot(figsize=(15, 6))\n",
    "plt.show()"
   ]
  },
  {
   "cell_type": "markdown",
   "id": "a7eef6d4",
   "metadata": {},
   "source": [
    "Some distinguishable patterns appear when we plot the data. The time-series has seasonality pattern, such as sales are always low at the beginning of the year and high at the end of the year. There is always an upward trend within any single year with a couple of low months in the mid of the year.\n",
    "We can also visualize our data using a method called time-series decomposition that allows us to decompose our time series into three distinct components: trend, seasonality, and noise."
   ]
  },
  {
   "cell_type": "markdown",
   "id": "46920421",
   "metadata": {},
   "source": [
    "### Time series forecasting with ARIMA\n",
    "We are going to apply one of the most commonly used method for time-series forecasting, known as ARIMA, which stands for Autoregressive Integrated Moving Average.\n",
    "ARIMA models are denoted with the notation ARIMA(p, d, q). These three parameters account for seasonality, trend, and noise in data:"
   ]
  },
  {
   "cell_type": "code",
   "execution_count": 14,
   "id": "c916aa55",
   "metadata": {},
   "outputs": [
    {
     "name": "stdout",
     "output_type": "stream",
     "text": [
      "Examples of parameter combinations for Seasonal ARIMA...\n",
      "SARIMAX: (0, 0, 1) x (0, 0, 1, 12)\n",
      "SARIMAX: (0, 0, 1) x (0, 1, 0, 12)\n",
      "SARIMAX: (0, 1, 0) x (0, 1, 1, 12)\n",
      "SARIMAX: (0, 1, 0) x (1, 0, 0, 12)\n"
     ]
    }
   ],
   "source": [
    "p = d = q = range(0, 2)\n",
    "pdq = list(itertools.product(p, d, q))\n",
    "seasonal_pdq = [(x[0], x[1], x[2], 12) for x in list(itertools.product(p, d, q))]\n",
    "print('Examples of parameter combinations for Seasonal ARIMA...')\n",
    "print('SARIMAX: {} x {}'.format(pdq[1], seasonal_pdq[1]))\n",
    "print('SARIMAX: {} x {}'.format(pdq[1], seasonal_pdq[2]))\n",
    "print('SARIMAX: {} x {}'.format(pdq[2], seasonal_pdq[3]))\n",
    "print('SARIMAX: {} x {}'.format(pdq[2], seasonal_pdq[4]))"
   ]
  },
  {
   "cell_type": "markdown",
   "id": "271e4391",
   "metadata": {},
   "source": [
    "This step is parameter Selection for our furniture’s sales ARIMA Time Series Model. Our goal here is to use a “grid search” to find the optimal set of parameters that yields the best performance for our model."
   ]
  },
  {
   "cell_type": "code",
   "execution_count": 15,
   "id": "3dd580df",
   "metadata": {},
   "outputs": [
    {
     "name": "stdout",
     "output_type": "stream",
     "text": [
      "ARIMA(0, 0, 0)x(0, 0, 0, 12)12 - AIC:994.7752175962673\n",
      "ARIMA(0, 0, 0)x(0, 0, 1, 12)12 - AIC:839266.610245412\n",
      "ARIMA(0, 0, 0)x(0, 1, 0, 12)12 - AIC:603.2477852926274\n",
      "ARIMA(0, 0, 0)x(0, 1, 1, 12)12 - AIC:295.6504492153119\n",
      "ARIMA(0, 0, 0)x(1, 0, 0, 12)12 - AIC:622.6757776775651\n",
      "ARIMA(0, 0, 0)x(1, 0, 1, 12)12 - AIC:596.0802703232682\n",
      "ARIMA(0, 0, 0)x(1, 1, 0, 12)12 - AIC:315.79681223454514\n",
      "ARIMA(0, 0, 0)x(1, 1, 1, 12)12 - AIC:297.64914200071667\n",
      "ARIMA(0, 0, 1)x(0, 0, 0, 12)12 - AIC:945.9452222290112\n",
      "ARIMA(0, 0, 1)x(0, 0, 1, 12)12 - AIC:619534.2110449234\n",
      "ARIMA(0, 0, 1)x(0, 1, 0, 12)12 - AIC:577.2671117708363\n",
      "ARIMA(0, 0, 1)x(0, 1, 1, 12)12 - AIC:273.2139196810193\n",
      "ARIMA(0, 0, 1)x(1, 0, 0, 12)12 - AIC:670.9707128216021\n",
      "ARIMA(0, 0, 1)x(1, 0, 1, 12)12 - AIC:619.4019510567451\n",
      "ARIMA(0, 0, 1)x(1, 1, 0, 12)12 - AIC:322.5335114418748\n",
      "ARIMA(0, 0, 1)x(1, 1, 1, 12)12 - AIC:275.21395871486806\n",
      "ARIMA(0, 1, 0)x(0, 0, 0, 12)12 - AIC:901.5129503116272\n",
      "ARIMA(0, 1, 0)x(0, 0, 1, 12)12 - AIC:581.0974146919376\n",
      "ARIMA(0, 1, 0)x(0, 1, 0, 12)12 - AIC:586.3858002022902\n",
      "ARIMA(0, 1, 0)x(0, 1, 1, 12)12 - AIC:274.04968122372566\n",
      "ARIMA(0, 1, 0)x(1, 0, 0, 12)12 - AIC:592.875602824275\n",
      "ARIMA(0, 1, 0)x(1, 0, 1, 12)12 - AIC:581.6516173311757\n",
      "ARIMA(0, 1, 0)x(1, 1, 0, 12)12 - AIC:293.42852993728764\n",
      "ARIMA(0, 1, 0)x(1, 1, 1, 12)12 - AIC:275.93422937292013\n",
      "ARIMA(0, 1, 1)x(0, 0, 0, 12)12 - AIC:859.5849918149297\n",
      "ARIMA(0, 1, 1)x(0, 0, 1, 12)12 - AIC:549.7759669989313\n",
      "ARIMA(0, 1, 1)x(0, 1, 0, 12)12 - AIC:554.471814344531\n",
      "ARIMA(0, 1, 1)x(0, 1, 1, 12)12 - AIC:248.00865580238258\n",
      "ARIMA(0, 1, 1)x(1, 0, 0, 12)12 - AIC:597.4586381346992\n",
      "ARIMA(0, 1, 1)x(1, 0, 1, 12)12 - AIC:550.4554822997414\n",
      "ARIMA(0, 1, 1)x(1, 1, 0, 12)12 - AIC:296.8747944094866\n",
      "ARIMA(0, 1, 1)x(1, 1, 1, 12)12 - AIC:249.85412071639132\n",
      "ARIMA(1, 0, 0)x(0, 0, 0, 12)12 - AIC:930.2299496138697\n",
      "ARIMA(1, 0, 0)x(0, 0, 1, 12)12 - AIC:184213.33984680547\n",
      "ARIMA(1, 0, 0)x(0, 1, 0, 12)12 - AIC:600.4693415312141\n",
      "ARIMA(1, 0, 0)x(0, 1, 1, 12)12 - AIC:297.0541378907245\n",
      "ARIMA(1, 0, 0)x(1, 0, 0, 12)12 - AIC:606.5330161168565\n",
      "ARIMA(1, 0, 0)x(1, 0, 1, 12)12 - AIC:607.953273053663\n",
      "ARIMA(1, 0, 0)x(1, 1, 0, 12)12 - AIC:297.06293280475415\n",
      "ARIMA(1, 0, 0)x(1, 1, 1, 12)12 - AIC:299.0413207278774\n",
      "ARIMA(1, 0, 1)x(0, 0, 0, 12)12 - AIC:888.7957727548957\n",
      "ARIMA(1, 0, 1)x(0, 0, 1, 12)12 - AIC:149431.52462842045\n",
      "ARIMA(1, 0, 1)x(0, 1, 0, 12)12 - AIC:578.2280678220244\n",
      "ARIMA(1, 0, 1)x(0, 1, 1, 12)12 - AIC:275.302758755958\n",
      "ARIMA(1, 0, 1)x(1, 0, 0, 12)12 - AIC:599.2139506538822\n",
      "ARIMA(1, 0, 1)x(1, 0, 1, 12)12 - AIC:574.3489444872113\n",
      "ARIMA(1, 0, 1)x(1, 1, 0, 12)12 - AIC:299.4350093338158\n",
      "ARIMA(1, 0, 1)x(1, 1, 1, 12)12 - AIC:277.24019860516376\n",
      "ARIMA(1, 1, 0)x(0, 0, 0, 12)12 - AIC:898.294446465728\n",
      "ARIMA(1, 1, 0)x(0, 0, 1, 12)12 - AIC:578.5585027789983\n",
      "ARIMA(1, 1, 0)x(0, 1, 0, 12)12 - AIC:580.6751770193979\n",
      "ARIMA(1, 1, 0)x(0, 1, 1, 12)12 - AIC:274.69995479145297\n",
      "ARIMA(1, 1, 0)x(1, 0, 0, 12)12 - AIC:577.1222319977674\n",
      "ARIMA(1, 1, 0)x(1, 0, 1, 12)12 - AIC:579.056940308905\n",
      "ARIMA(1, 1, 0)x(1, 1, 0, 12)12 - AIC:274.7814725655468\n",
      "ARIMA(1, 1, 0)x(1, 1, 1, 12)12 - AIC:276.58483695510097\n",
      "ARIMA(1, 1, 1)x(0, 0, 0, 12)12 - AIC:861.6276642484116\n",
      "ARIMA(1, 1, 1)x(0, 0, 1, 12)12 - AIC:551.8538018282634\n",
      "ARIMA(1, 1, 1)x(0, 1, 0, 12)12 - AIC:556.2654008098119\n",
      "ARIMA(1, 1, 1)x(0, 1, 1, 12)12 - AIC:249.47483458057255\n",
      "ARIMA(1, 1, 1)x(1, 0, 0, 12)12 - AIC:574.869565557448\n",
      "ARIMA(1, 1, 1)x(1, 0, 1, 12)12 - AIC:552.3983499039778\n",
      "ARIMA(1, 1, 1)x(1, 1, 0, 12)12 - AIC:273.52996492148003\n",
      "ARIMA(1, 1, 1)x(1, 1, 1, 12)12 - AIC:251.3888202526896\n"
     ]
    }
   ],
   "source": [
    "warnings.filterwarnings(\"ignore\")\n",
    "for param in pdq:\n",
    "    for param_seasonal in seasonal_pdq:\n",
    "        try:\n",
    "            mod = sm.tsa.statespace.SARIMAX(y,\n",
    "                                            order=param,\n",
    "                                            seasonal_order=param_seasonal,\n",
    "                                            enforce_stationarity=False,\n",
    "                                            enforce_invertibility=False)\n",
    "\n",
    "            results = mod.fit()\n",
    "\n",
    "            print('ARIMA{}x{}12 - AIC:{}'.format(param, param_seasonal, results.aic))\n",
    "        except:\n",
    "            continue"
   ]
  },
  {
   "cell_type": "markdown",
   "id": "8744aa53",
   "metadata": {},
   "source": [
    " ### Fitting an ARIMA Time Series Model"
   ]
  },
  {
   "cell_type": "code",
   "execution_count": 16,
   "id": "162b89ad",
   "metadata": {},
   "outputs": [
    {
     "name": "stdout",
     "output_type": "stream",
     "text": [
      "==============================================================================\n",
      "                 coef    std err          z      P>|z|      [0.025      0.975]\n",
      "------------------------------------------------------------------------------\n",
      "ar.L1          0.1268      1.684      0.075      0.940      -3.174       3.428\n",
      "ma.L1         -0.9612      0.110     -8.775      0.000      -1.176      -0.746\n",
      "ar.S.L12      -0.2327      9.253     -0.025      0.980     -18.368      17.903\n",
      "ma.S.L12       0.4135      8.530      0.048      0.961     -16.306      17.133\n",
      "sigma2      3.541e+09    8.1e-10   4.37e+18      0.000    3.54e+09    3.54e+09\n",
      "==============================================================================\n"
     ]
    }
   ],
   "source": [
    "mod = sm.tsa.statespace.SARIMAX(y,\n",
    "                                order=(1, 1, 1),\n",
    "                                seasonal_order=(1, 1, 1, 12),\n",
    "                                enforce_stationarity=False,\n",
    "                                enforce_invertibility=False)\n",
    "\n",
    "results = mod.fit()\n",
    "\n",
    "print(results.summary().tables[1])"
   ]
  },
  {
   "cell_type": "markdown",
   "id": "4e1ab620",
   "metadata": {},
   "source": [
    "### Validating forecasts"
   ]
  },
  {
   "cell_type": "code",
   "execution_count": 17,
   "id": "564835ce",
   "metadata": {},
   "outputs": [],
   "source": [
    "pred = results.get_prediction(start=pd.to_datetime('2011-06-01'), end=pd.to_datetime('2014-05-31 05:40:00'),dynamic=True, full_results=True)\n",
    "pred_ci = pred.conf_int()\n",
    "\n"
   ]
  },
  {
   "cell_type": "code",
   "execution_count": 18,
   "id": "8f596801",
   "metadata": {},
   "outputs": [
    {
     "data": {
      "image/png": "[encoded data removed]",
      "text/plain": [
       "<Figure size 432x288 with 1 Axes>"
      ]
     },
     "metadata": {},
     "output_type": "display_data"
    }
   ],
   "source": [
    "ax = y['2011':].plot(label='observed')\n",
    "pred.predicted_mean.plot(ax=ax, label='One-step ahead Forecast', alpha=.7)\n",
    "\n",
    "ax.fill_between(pred_ci.index,\n",
    "                pred_ci.iloc[:, 0],\n",
    "                pred_ci.iloc[:, 1], color='k', alpha=.2)\n",
    "\n",
    "ax.set_xlabel('OrderDate')\n",
    "ax.set_ylabel('TOtal Sales')\n",
    "plt.legend()\n",
    "\n",
    "plt.show()"
   ]
  },
  {
   "cell_type": "code",
   "execution_count": 19,
   "id": "2cf3afaf",
   "metadata": {},
   "outputs": [
    {
     "name": "stdout",
     "output_type": "stream",
     "text": [
      "The Mean Squared Error of our forecasts is 13392162624.81\n"
     ]
    }
   ],
   "source": [
    "y_forecasted = pred.predicted_mean\n",
    "y_truth = y['2014-01-01':]\n",
    "mse = ((y_forecasted - y_truth) ** 2).mean()\n",
    "print('The Mean Squared Error of our forecasts is {}'.format(round(mse, 2)))\n"
   ]
  },
  {
   "cell_type": "code",
   "execution_count": 20,
   "id": "38153180",
   "metadata": {},
   "outputs": [
    {
     "name": "stdout",
     "output_type": "stream",
     "text": [
      "The Root Mean Squared Error of our forecasts is 115724.51\n"
     ]
    }
   ],
   "source": [
    "print('The Root Mean Squared Error of our forecasts is {}'.format(round(np.sqrt(mse), 2)))"
   ]
  },
  {
   "cell_type": "code",
   "execution_count": 22,
   "id": "3afc9779",
   "metadata": {
    "scrolled": false
   },
   "outputs": [
    {
     "data": {
      "image/png": "[encoded data removed]",
      "text/plain": [
       "<Figure size 1008x504 with 1 Axes>"
      ]
     },
     "metadata": {},
     "output_type": "display_data"
    }
   ],
   "source": [
    "pred_uc = results.get_forecast(steps=100)\n",
    "pred_ci = pred_uc.conf_int()\n",
    "ax = y.plot(label='observed', figsize=(14, 7))\n",
    "pred_uc.predicted_mean.plot(ax=ax, label='Reseller Forecast for US-SouthEast Region')\n",
    "ax.fill_between(pred_ci.index,\n",
    "                pred_ci.iloc[:, 0],\n",
    "                pred_ci.iloc[:, 1], color='k', alpha=.25)\n",
    "ax.set_xlabel('OrderDate')\n",
    "ax.set_ylabel('TOtal Sales')\n",
    "plt.legend()\n",
    "plt.show()"
   ]
  },
  {
   "cell_type": "code",
   "execution_count": null,
   "id": "51b4e070",
   "metadata": {},
   "outputs": [],
   "source": []
  }
 ],
 "metadata": {
  "kernelspec": {
   "display_name": "Python 3",
   "language": "python",
   "name": "python3"
  },
  "language_info": {
   "codemirror_mode": {
    "name": "ipython",
    "version": 3
   },
   "file_extension": ".py",
   "mimetype": "text/x-python",
   "name": "python",
   "nbconvert_exporter": "python",
   "pygments_lexer": "ipython3",
   "version": "3.8.8"
  }
 },
 "nbformat": 4,
 "nbformat_minor": 5
}
